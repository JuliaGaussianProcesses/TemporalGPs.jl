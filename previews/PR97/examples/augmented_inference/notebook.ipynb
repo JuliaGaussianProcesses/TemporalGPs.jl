{
 "cells": [
  {
   "outputs": [],
   "cell_type": "code",
   "source": [
    "using AbstractGPs\n",
    "using TemporalGPs\n",
    "using Distributions\n",
    "using StatsFuns: logistic"
   ],
   "metadata": {},
   "execution_count": 1
  },
  {
   "cell_type": "markdown",
   "source": [
    "In this example we are showing how to work with non-Gaussian likelihoods,\n",
    "here a binary classification problem with a logistic link,\n",
    "by using variable augmentations as in [Galy-Fajou et al, 2020](https://arxiv.org/abs/2002.114510).\n",
    "We base our example on the \"exact_time_inference\" example"
   ],
   "metadata": {}
  },
  {
   "cell_type": "markdown",
   "source": [
    "Load up the separable kernel from TemporalGPs."
   ],
   "metadata": {}
  },
  {
   "outputs": [],
   "cell_type": "code",
   "source": [
    "using TemporalGPs: RegularSpacing"
   ],
   "metadata": {},
   "execution_count": 2
  },
  {
   "cell_type": "markdown",
   "source": [
    "Build a GP as per usual, and wrap it inside a TemporalGPs.jl object."
   ],
   "metadata": {}
  },
  {
   "outputs": [],
   "cell_type": "code",
   "source": [
    "f_raw = GP(Matern52Kernel());\n",
    "f = to_sde(f_raw, SArrayStorage(Float64));"
   ],
   "metadata": {},
   "execution_count": 3
  },
  {
   "cell_type": "markdown",
   "source": [
    "Specify a collection of inputs. Must be increasing."
   ],
   "metadata": {}
  },
  {
   "outputs": [],
   "cell_type": "code",
   "source": [
    "T = 1_000;\n",
    "x = RegularSpacing(0.0, 1e-1, T);"
   ],
   "metadata": {},
   "execution_count": 4
  },
  {
   "cell_type": "markdown",
   "source": [
    "Generate some synthetic data from the GP and get a random binary output"
   ],
   "metadata": {}
  },
  {
   "outputs": [
    {
     "output_type": "execute_result",
     "data": {
      "text/plain": "1000-element Vector{Float64}:\n  1.0\n  1.0\n -1.0\n -1.0\n -1.0\n  1.0\n  1.0\n -1.0\n -1.0\n -1.0\n  ⋮\n -1.0\n  1.0\n  1.0\n  1.0\n -1.0\n  1.0\n  1.0\n -1.0\n  1.0"
     },
     "metadata": {},
     "execution_count": 5
    }
   ],
   "cell_type": "code",
   "source": [
    "σ²_noise = 0.01;\n",
    "f_true = rand(f(x, σ²_noise));\n",
    "y = rand.(Bernoulli.(logistic.(f_true)));\n",
    "y_sign = sign.(y .- 0.5)"
   ],
   "metadata": {},
   "execution_count": 5
  },
  {
   "cell_type": "markdown",
   "source": [
    "We are using the augmentation trick and look for the optimal\n",
    "expected value of the variable ω"
   ],
   "metadata": {}
  },
  {
   "outputs": [
    {
     "output_type": "execute_result",
     "data": {
      "text/plain": "Λ_like (generic function with 1 method)"
     },
     "metadata": {},
     "execution_count": 6
    }
   ],
   "cell_type": "code",
   "source": [
    "η₁_like(ω, g, β) = g .+ β .* ω # The augmented likelihood first natural parameter\n",
    "Λ_like(ω, γ) = 2 * γ * ω # The augmented likelihood precision (diagonal)"
   ],
   "metadata": {},
   "execution_count": 6
  },
  {
   "cell_type": "markdown",
   "source": [
    "These are the values corresponding to our problem"
   ],
   "metadata": {}
  },
  {
   "outputs": [
    {
     "output_type": "execute_result",
     "data": {
      "text/plain": "TemporalGPs.PosteriorLTISDE{TemporalGPs.LTISDE{AbstractGPs.GP{AbstractGPs.ZeroMean{Float64}, KernelFunctions.Matern52Kernel{Distances.Euclidean}}, TemporalGPs.SArrayStorage{Float64}}, NamedTuple{(:y, :x, :Σy), Tuple{Vector{Float64}, TemporalGPs.RegularSpacing{Float64}, LinearAlgebra.Diagonal{Float64, Vector{Float64}}}}}(TemporalGPs.LTISDE{AbstractGPs.GP{AbstractGPs.ZeroMean{Float64}, KernelFunctions.Matern52Kernel{Distances.Euclidean}}, TemporalGPs.SArrayStorage{Float64}}(AbstractGPs.GP{AbstractGPs.ZeroMean{Float64}, KernelFunctions.Matern52Kernel{Distances.Euclidean}}(AbstractGPs.ZeroMean{Float64}(), Matern 5/2 Kernel (metric = Distances.Euclidean(0.0))), TemporalGPs.SArrayStorage{Float64}()), (y = [1.0253678314631345, 1.0217438141783033, -1.0195677020527874, -1.0189552559481503, -1.0198383362582495, 1.0220265589909046, 1.0252356506747304, -1.0290306914103913, -1.0327896972200443, -1.0358026810522216  …  1.042910466104591, -1.0415497599450303, 1.0393642849364477, 1.036776928910973, 1.0341914538429686, -1.0320016513588388, 1.030550077370237, 1.0300853972883792, -1.0307669185723716, 1.032637708224327], x = [0.0, 0.1, 0.2, 0.30000000000000004, 0.4, 0.5, 0.6000000000000001, 0.7000000000000001, 0.8, 0.9  …  99.0, 99.10000000000001, 99.2, 99.30000000000001, 99.4, 99.5, 99.60000000000001, 99.7, 99.80000000000001, 99.9], Σy = [2.050735662926269 0.0 … 0.0 0.0; 0.0 2.0434876283566066 … 0.0 0.0; … ; 0.0 0.0 … 2.061533837144743 0.0; 0.0 0.0 … 0.0 2.065275416448654]))"
     },
     "metadata": {},
     "execution_count": 7
    }
   ],
   "cell_type": "code",
   "source": [
    "γ = 0.5\n",
    "g = 0.5 * y_sign\n",
    "β = 0\n",
    "\n",
    "function compute_optimal_expectation(f, x, g, β, γ; n_iter=5)\n",
    "    T = length(x)\n",
    "    ω̄ = rand(T) # preallocation\n",
    "    c = zeros(T) # preallocation\n",
    "    for i in 1:n_iter\n",
    "        Λ = Λ_like(ω̄, γ)\n",
    "        p_f = marginals(posterior(f(x, inv.(Λ)), inv.(Λ) .* η₁_like(ω̄, g, β))(x))\n",
    "        @. c = sqrt(var(p_f) + abs2(mean(p_f))) / 2\n",
    "        @. ω̄ = 0.5 * tanh(c) / c\n",
    "    end\n",
    "    return ω̄\n",
    "end\n",
    "\n",
    "ω̄ = compute_optimal_expectation(f, x, g, β, γ)\n",
    "Λ = Λ_like(ω̄, γ)\n",
    "f_post = posterior(f(x, inv.(Λ)), inv.(Λ) .* η₁_like(ω̄, g, β))"
   ],
   "metadata": {},
   "execution_count": 7
  },
  {
   "cell_type": "markdown",
   "source": [
    "Specify some locations at which to make predictions."
   ],
   "metadata": {}
  },
  {
   "outputs": [],
   "cell_type": "code",
   "source": [
    "T_pr = 1_200_000;\n",
    "x_pr = RegularSpacing(0.0, 1e-4, T_pr);"
   ],
   "metadata": {},
   "execution_count": 8
  },
  {
   "cell_type": "markdown",
   "source": [
    "Compute the exact posterior marginals at `x_pr`."
   ],
   "metadata": {}
  },
  {
   "outputs": [],
   "cell_type": "code",
   "source": [
    "f_post_marginals = marginals(f_post(x_pr));\n",
    "m_post_marginals = mean.(f_post_marginals);\n",
    "σ_post_marginals = std.(f_post_marginals);"
   ],
   "metadata": {},
   "execution_count": 9
  },
  {
   "cell_type": "markdown",
   "source": [
    "Generate a few posterior samples. Not fantastically-well optimised at present."
   ],
   "metadata": {}
  },
  {
   "outputs": [],
   "cell_type": "code",
   "source": [
    "f_post_samples = [rand(f_post(x_pr)) for _ in 1:5];"
   ],
   "metadata": {},
   "execution_count": 10
  },
  {
   "cell_type": "markdown",
   "source": [
    "Visualise the posterior. The if block is just to prevent it running in CI."
   ],
   "metadata": {}
  },
  {
   "outputs": [
    {
     "output_type": "execute_result",
     "data": {
      "text/plain": "\"/home/runner/work/TemporalGPs.jl/TemporalGPs.jl/docs/src/examples/augmented_inference/posterior.png\""
     },
     "metadata": {},
     "execution_count": 11
    }
   ],
   "cell_type": "code",
   "source": [
    "if get(ENV, \"TESTING\", \"FALSE\") == \"FALSE\"\n",
    "    using Plots\n",
    "    plt = plot()\n",
    "    plot!(plt, f_post(x_pr); ribbon_scale=3.0, label=\"\");\n",
    "    plot!(plt, x_pr, f_post_samples; color=:red, alpha=0.3, label=\"\");\n",
    "    plot!(plt, x, f_true; label=\"\", lw=2.0, color=:blue); # Plot the true latent GP on top\n",
    "    scatter!(plt, x, y; label=\"\", markersize=1.0, alpha=1.0); # Plot the data\n",
    "    savefig(plt, \"posterior.png\");\n",
    "end"
   ],
   "metadata": {},
   "execution_count": 11
  },
  {
   "cell_type": "markdown",
   "source": [
    "<hr />\n",
    "<h6>Package and system information</h6>\n",
    "<details>\n",
    "<summary>Package information (click to expand)</summary>\n",
    "<pre>\n",
    "Status &#96;~/work/TemporalGPs.jl/TemporalGPs.jl/examples/augmented_inference/Project.toml&#96;\n",
    "  &#91;99985d1d&#93; AbstractGPs v0.5.16\n",
    "  &#91;31c24e10&#93; Distributions v0.25.87\n",
    "  &#91;98b081ad&#93; Literate v2.14.0\n",
    "  &#91;91a5bcdd&#93; Plots v1.38.9\n",
    "  &#91;4c63d2b9&#93; StatsFuns v1.3.0\n",
    "  &#91;e155a3c4&#93; TemporalGPs v0.6.3 &#96;/home/runner/work/TemporalGPs.jl/TemporalGPs.jl#564e73f&#96;\n",
    "</pre>\n",
    "To reproduce this notebook's package environment, you can\n",
    "<a href=\"./Manifest.toml\">\n",
    "download the full Manifest.toml</a>.\n",
    "</details>\n",
    "<details>\n",
    "<summary>System information (click to expand)</summary>\n",
    "<pre>\n",
    "Julia Version 1.8.5\n",
    "Commit 17cfb8e65ea &#40;2023-01-08 06:45 UTC&#41;\n",
    "Platform Info:\n",
    "  OS: Linux &#40;x86_64-linux-gnu&#41;\n",
    "  CPU: 2 × Intel&#40;R&#41; Xeon&#40;R&#41; CPU E5-2673 v4 @ 2.30GHz\n",
    "  WORD_SIZE: 64\n",
    "  LIBM: libopenlibm\n",
    "  LLVM: libLLVM-13.0.1 &#40;ORCJIT, broadwell&#41;\n",
    "  Threads: 1 on 2 virtual cores\n",
    "Environment:\n",
    "  JULIA_DEBUG &#61; Documenter\n",
    "  JULIA_LOAD_PATH &#61; :/home/runner/.julia/packages/JuliaGPsDocs/e8FS0/src\n",
    "</pre>\n",
    "</details>"
   ],
   "metadata": {}
  },
  {
   "cell_type": "markdown",
   "source": [
    "---\n",
    "\n",
    "*This notebook was generated using [Literate.jl](https://github.com/fredrikekre/Literate.jl).*"
   ],
   "metadata": {}
  }
 ],
 "nbformat_minor": 3,
 "metadata": {
  "language_info": {
   "file_extension": ".jl",
   "mimetype": "application/julia",
   "name": "julia",
   "version": "1.8.5"
  },
  "kernelspec": {
   "name": "julia-1.8",
   "display_name": "Julia 1.8.5",
   "language": "julia"
  }
 },
 "nbformat": 4
}
