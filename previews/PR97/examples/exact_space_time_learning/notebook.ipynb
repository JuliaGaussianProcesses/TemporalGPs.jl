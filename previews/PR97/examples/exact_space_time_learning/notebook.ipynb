{
 "cells": [
  {
   "cell_type": "markdown",
   "source": [
    "This is an extended version of exact_space_time_inference.jl. It combines it with\n",
    "Optim + ParameterHandling + Zygote to learn the kernel parameters.\n",
    "If you understand how to use Optim + ParameterHandling + Zygote for an AbstractGP,\n",
    "e.g. that shown on the README for this package, and how exact_space_time_inference.jl\n",
    "works, then you should understand this file."
   ],
   "metadata": {}
  },
  {
   "outputs": [],
   "cell_type": "code",
   "source": [
    "using AbstractGPs\n",
    "using KernelFunctions\n",
    "using TemporalGPs\n",
    "\n",
    "using TemporalGPs: Separable, RectilinearGrid"
   ],
   "metadata": {},
   "execution_count": 1
  },
  {
   "cell_type": "markdown",
   "source": [
    "Load standard packages from the Julia ecosystem"
   ],
   "metadata": {}
  },
  {
   "outputs": [],
   "cell_type": "code",
   "source": [
    "using Optim # Standard optimisation algorithms.\n",
    "using ParameterHandling # Helper functionality for dealing with model parameters.\n",
    "using Zygote # Algorithmic Differentiation"
   ],
   "metadata": {},
   "execution_count": 2
  },
  {
   "cell_type": "markdown",
   "source": [
    "Declare model parameters using `ParameterHandling.jl` types."
   ],
   "metadata": {}
  },
  {
   "outputs": [],
   "cell_type": "code",
   "source": [
    "flat_initial_params, unflatten = ParameterHandling.flatten((\n",
    "    var_kernel = positive(0.6),\n",
    "    λ_space = positive(2.5),\n",
    "    λ_time = positive(2.5),\n",
    "    var_noise = positive(0.1),\n",
    "));"
   ],
   "metadata": {},
   "execution_count": 3
  },
  {
   "cell_type": "markdown",
   "source": [
    "Construct a function to unpack flattened parameters and pull out the raw values."
   ],
   "metadata": {}
  },
  {
   "outputs": [
    {
     "output_type": "execute_result",
     "data": {
      "text/plain": "build_gp (generic function with 1 method)"
     },
     "metadata": {},
     "execution_count": 4
    }
   ],
   "cell_type": "code",
   "source": [
    "unpack = ParameterHandling.value ∘ unflatten;\n",
    "params = unpack(flat_initial_params);\n",
    "\n",
    "function build_gp(params)\n",
    "    k_space = SEKernel() ∘ ScaleTransform(params.λ_space)\n",
    "    k_time = Matern52Kernel() ∘ ScaleTransform(params.λ_time)\n",
    "    k = params.var_kernel * Separable(k_space, k_time)\n",
    "    return to_sde(GP(k), ArrayStorage(Float64))\n",
    "end"
   ],
   "metadata": {},
   "execution_count": 4
  },
  {
   "cell_type": "markdown",
   "source": [
    "Construct a rectilinear grid of points in space and time.\n",
    "Exact inference only works for such grids.\n",
    "Times must be increasing, points in space can be anywhere."
   ],
   "metadata": {}
  },
  {
   "outputs": [],
   "cell_type": "code",
   "source": [
    "N = 50;\n",
    "T = 1_000;\n",
    "points_in_space = collect(range(-3.0, 3.0; length=N));\n",
    "points_in_time = RegularSpacing(0.0, 0.01, T);\n",
    "x = RectilinearGrid(points_in_space, points_in_time);\n",
    "y = rand(build_gp(params)(x, 1e-4));"
   ],
   "metadata": {},
   "execution_count": 5
  },
  {
   "cell_type": "markdown",
   "source": [
    "Specify an objective function for Optim to minimise in terms of x and y.\n",
    "We choose the usual negative log marginal likelihood (NLML)."
   ],
   "metadata": {}
  },
  {
   "outputs": [
    {
     "output_type": "execute_result",
     "data": {
      "text/plain": "objective (generic function with 1 method)"
     },
     "metadata": {},
     "execution_count": 6
    }
   ],
   "cell_type": "code",
   "source": [
    "function objective(params)\n",
    "    f = build_gp(params)\n",
    "    return -logpdf(f(x, params.var_noise), y)\n",
    "end"
   ],
   "metadata": {},
   "execution_count": 6
  },
  {
   "cell_type": "markdown",
   "source": [
    "Optimise using Optim. Takes a little while to compile because Zygote."
   ],
   "metadata": {}
  },
  {
   "outputs": [
    {
     "name": "stdout",
     "output_type": "stream",
     "text": [
      "Iter     Function value   Gradient norm \n",
      "     0     1.165687e+04     4.035704e+04\n",
      " * time: 8.416175842285156e-5\n",
      "     1    -9.523189e+03     2.404717e+04\n",
      " * time: 5.809290170669556\n",
      "     2    -3.240352e+04     2.378045e+04\n",
      " * time: 11.182735204696655\n",
      "     3    -4.951286e+04     2.392444e+04\n",
      " * time: 17.528019189834595\n",
      "     4    -5.137398e+04     2.393801e+04\n",
      " * time: 22.853657007217407\n",
      "     5    -7.279925e+04     2.330318e+04\n",
      " * time: 27.715116024017334\n",
      "     6    -8.442324e+04     2.289346e+04\n",
      " * time: 34.065861225128174\n",
      "     7    -9.253716e+04     2.254928e+04\n",
      " * time: 39.50873112678528\n",
      "     8    -9.790651e+04     2.228661e+04\n",
      " * time: 44.88551115989685\n",
      "     9    -1.025198e+05     2.204088e+04\n",
      " * time: 50.68899703025818\n",
      "    10    -1.066216e+05     2.177387e+04\n",
      " * time: 55.72966814041138\n",
      "    11    -1.118425e+05     2.136884e+04\n",
      " * time: 60.882728099823\n",
      "    12    -1.158944e+05     2.092844e+04\n",
      " * time: 67.19027519226074\n",
      "    13    -1.236826e+05     1.985106e+04\n",
      " * time: 72.21184802055359\n",
      "    14    -1.280598e+05     1.896199e+04\n",
      " * time: 77.51477122306824\n",
      "    15    -1.348149e+05     1.701354e+04\n",
      " * time: 83.63542008399963\n",
      "    16    -1.388264e+05     1.527548e+04\n",
      " * time: 89.50839805603027\n",
      "    17    -1.448576e+05     1.072029e+04\n",
      " * time: 95.24629616737366\n",
      "    18    -1.466026e+05     8.365841e+03\n",
      " * time: 100.90478706359863\n",
      "    19    -1.477835e+05     5.741290e+03\n",
      " * time: 106.44569706916809\n",
      "    20    -1.484781e+05     4.056738e+03\n",
      " * time: 112.92844414710999\n",
      "    21    -1.485352e+05     4.121480e+03\n",
      " * time: 119.24391222000122\n",
      "    22    -1.487161e+05     2.294978e+03\n",
      " * time: 125.0440981388092\n",
      "    23    -1.487760e+05     6.503266e+02\n",
      " * time: 130.85252404212952\n",
      "    24    -1.487904e+05     1.104415e+03\n",
      " * time: 137.23058915138245\n",
      "    25    -1.487943e+05     2.421059e+02\n",
      " * time: 142.54758214950562\n",
      "    26    -1.487943e+05     2.466460e+02\n",
      " * time: 165.0284972190857\n",
      "    27    -1.487945e+05     1.279416e+02\n",
      " * time: 171.37531399726868\n",
      "    28    -1.487945e+05     3.020881e+02\n",
      " * time: 176.21017813682556\n",
      "    29    -1.487945e+05     3.032319e+02\n",
      " * time: 183.3869822025299\n",
      "    30    -1.487945e+05     2.330638e+02\n",
      " * time: 190.30623722076416\n",
      "    31    -1.487945e+05     2.330638e+02\n",
      " * time: 202.8865442276001\n"
     ]
    }
   ],
   "cell_type": "code",
   "source": [
    "training_results = Optim.optimize(\n",
    "    objective ∘ unpack,\n",
    "    θ -> only(Zygote.gradient(objective ∘ unpack, θ)),\n",
    "    flat_initial_params + randn(4), # Add some noise to make learning non-trivial\n",
    "    BFGS(\n",
    "        alphaguess = Optim.LineSearches.InitialStatic(scaled=true),\n",
    "        linesearch = Optim.LineSearches.BackTracking(),\n",
    "    ),\n",
    "    Optim.Options(show_trace = true);\n",
    "    inplace=false,\n",
    ");"
   ],
   "metadata": {},
   "execution_count": 7
  },
  {
   "cell_type": "markdown",
   "source": [
    "Extracting the final values of the parameters.\n",
    "Should be close to truth."
   ],
   "metadata": {}
  },
  {
   "outputs": [
    {
     "output_type": "execute_result",
     "data": {
      "text/plain": "(var_kernel = 196173.01744211162, λ_space = 2.2298218817672057, λ_time = 0.19185038718113998, var_noise = 0.000100414051738805)"
     },
     "metadata": {},
     "execution_count": 8
    }
   ],
   "cell_type": "code",
   "source": [
    "final_params = unpack(training_results.minimizer)"
   ],
   "metadata": {},
   "execution_count": 8
  },
  {
   "cell_type": "markdown",
   "source": [
    "Construct the posterior as per usual."
   ],
   "metadata": {}
  },
  {
   "outputs": [],
   "cell_type": "code",
   "source": [
    "f_post = posterior(build_gp(final_params)(x, final_params.var_noise), y);"
   ],
   "metadata": {},
   "execution_count": 9
  },
  {
   "cell_type": "markdown",
   "source": [
    "Specify some locations at which to make predictions."
   ],
   "metadata": {}
  },
  {
   "outputs": [],
   "cell_type": "code",
   "source": [
    "T_pr = 1200;\n",
    "points_in_time_pr = RegularSpacing(0.0, 0.01, T_pr);\n",
    "x_pr = RectilinearGrid(points_in_space, points_in_time_pr);"
   ],
   "metadata": {},
   "execution_count": 10
  },
  {
   "cell_type": "markdown",
   "source": [
    "Compute the exact posterior marginals at `x_pr`.\n",
    "This isn't optimised at present, so might take a little while."
   ],
   "metadata": {}
  },
  {
   "outputs": [],
   "cell_type": "code",
   "source": [
    "f_post_marginals = marginals(f_post(x_pr));\n",
    "m_post_marginals = mean.(f_post_marginals);\n",
    "σ_post_marginals = std.(f_post_marginals);"
   ],
   "metadata": {},
   "execution_count": 11
  },
  {
   "cell_type": "markdown",
   "source": [
    "Visualise the posterior marginals. We don't do this during in CI because it causes\n",
    "problems."
   ],
   "metadata": {}
  },
  {
   "outputs": [
    {
     "output_type": "execute_result",
     "data": {
      "text/plain": "\"/home/runner/work/TemporalGPs.jl/TemporalGPs.jl/docs/src/examples/exact_space_time_learning/posterior.png\""
     },
     "metadata": {},
     "execution_count": 12
    }
   ],
   "cell_type": "code",
   "source": [
    "if get(ENV, \"TESTING\", \"FALSE\") == \"FALSE\"\n",
    "    using Plots\n",
    "    savefig(\n",
    "        plot(\n",
    "            heatmap(reshape(m_post_marginals, N, T_pr)),\n",
    "            heatmap(reshape(σ_post_marginals, N, T_pr));\n",
    "            layout=(1, 2),\n",
    "        ),\n",
    "        \"posterior.png\",\n",
    "    );\n",
    "end"
   ],
   "metadata": {},
   "execution_count": 12
  },
  {
   "cell_type": "markdown",
   "source": [
    "<hr />\n",
    "<h6>Package and system information</h6>\n",
    "<details>\n",
    "<summary>Package information (click to expand)</summary>\n",
    "<pre>\n",
    "Status &#96;~/work/TemporalGPs.jl/TemporalGPs.jl/examples/exact_space_time_learning/Project.toml&#96;\n",
    "  &#91;99985d1d&#93; AbstractGPs v0.5.16\n",
    "  &#91;ec8451be&#93; KernelFunctions v0.10.55\n",
    "  &#91;98b081ad&#93; Literate v2.14.0\n",
    "  &#91;429524aa&#93; Optim v1.7.5\n",
    "  &#91;2412ca09&#93; ParameterHandling v0.4.6\n",
    "  &#91;91a5bcdd&#93; Plots v1.38.10\n",
    "  &#91;e155a3c4&#93; TemporalGPs v0.6.3 &#96;/home/runner/work/TemporalGPs.jl/TemporalGPs.jl#61a94af&#96;\n",
    "  &#91;e88e6eb3&#93; Zygote v0.6.60\n",
    "</pre>\n",
    "To reproduce this notebook's package environment, you can\n",
    "<a href=\"./Manifest.toml\">\n",
    "download the full Manifest.toml</a>.\n",
    "</details>\n",
    "<details>\n",
    "<summary>System information (click to expand)</summary>\n",
    "<pre>\n",
    "Julia Version 1.8.5\n",
    "Commit 17cfb8e65ea &#40;2023-01-08 06:45 UTC&#41;\n",
    "Platform Info:\n",
    "  OS: Linux &#40;x86_64-linux-gnu&#41;\n",
    "  CPU: 2 × Intel&#40;R&#41; Xeon&#40;R&#41; Platinum 8370C CPU @ 2.80GHz\n",
    "  WORD_SIZE: 64\n",
    "  LIBM: libopenlibm\n",
    "  LLVM: libLLVM-13.0.1 &#40;ORCJIT, icelake-server&#41;\n",
    "  Threads: 1 on 2 virtual cores\n",
    "Environment:\n",
    "  JULIA_DEBUG &#61; Documenter\n",
    "  JULIA_LOAD_PATH &#61; :/home/runner/.julia/packages/JuliaGPsDocs/e8FS0/src\n",
    "</pre>\n",
    "</details>"
   ],
   "metadata": {}
  },
  {
   "cell_type": "markdown",
   "source": [
    "---\n",
    "\n",
    "*This notebook was generated using [Literate.jl](https://github.com/fredrikekre/Literate.jl).*"
   ],
   "metadata": {}
  }
 ],
 "nbformat_minor": 3,
 "metadata": {
  "language_info": {
   "file_extension": ".jl",
   "mimetype": "application/julia",
   "name": "julia",
   "version": "1.8.5"
  },
  "kernelspec": {
   "name": "julia-1.8",
   "display_name": "Julia 1.8.5",
   "language": "julia"
  }
 },
 "nbformat": 4
}
