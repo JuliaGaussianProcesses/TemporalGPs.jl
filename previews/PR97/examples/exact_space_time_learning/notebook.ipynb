{
 "cells": [
  {
   "cell_type": "markdown",
   "source": [
    "This is an extended version of exact_space_time_inference.jl. It combines it with\n",
    "Optim + ParameterHandling + Zygote to learn the kernel parameters.\n",
    "If you understand how to use Optim + ParameterHandling + Zygote for an AbstractGP,\n",
    "e.g. that shown on the README for this package, and how exact_space_time_inference.jl\n",
    "works, then you should understand this file."
   ],
   "metadata": {}
  },
  {
   "outputs": [],
   "cell_type": "code",
   "source": [
    "using AbstractGPs\n",
    "using KernelFunctions\n",
    "using TemporalGPs\n",
    "\n",
    "using TemporalGPs: Separable, RectilinearGrid"
   ],
   "metadata": {},
   "execution_count": 1
  },
  {
   "cell_type": "markdown",
   "source": [
    "Load standard packages from the Julia ecosystem"
   ],
   "metadata": {}
  },
  {
   "outputs": [],
   "cell_type": "code",
   "source": [
    "using Optim # Standard optimisation algorithms.\n",
    "using ParameterHandling # Helper functionality for dealing with model parameters.\n",
    "using Zygote # Algorithmic Differentiation"
   ],
   "metadata": {},
   "execution_count": 2
  },
  {
   "cell_type": "markdown",
   "source": [
    "Declare model parameters using `ParameterHandling.jl` types."
   ],
   "metadata": {}
  },
  {
   "outputs": [],
   "cell_type": "code",
   "source": [
    "flat_initial_params, unflatten = ParameterHandling.flatten((\n",
    "    var_kernel = positive(0.6),\n",
    "    λ_space = positive(2.5),\n",
    "    λ_time = positive(2.5),\n",
    "    var_noise = positive(0.1),\n",
    "));"
   ],
   "metadata": {},
   "execution_count": 3
  },
  {
   "cell_type": "markdown",
   "source": [
    "Construct a function to unpack flattened parameters and pull out the raw values."
   ],
   "metadata": {}
  },
  {
   "outputs": [
    {
     "output_type": "execute_result",
     "data": {
      "text/plain": "build_gp (generic function with 1 method)"
     },
     "metadata": {},
     "execution_count": 4
    }
   ],
   "cell_type": "code",
   "source": [
    "unpack = ParameterHandling.value ∘ unflatten;\n",
    "params = unpack(flat_initial_params);\n",
    "\n",
    "function build_gp(params)\n",
    "    k_space = SEKernel() ∘ ScaleTransform(params.λ_space)\n",
    "    k_time = Matern52Kernel() ∘ ScaleTransform(params.λ_time)\n",
    "    k = params.var_kernel * Separable(k_space, k_time)\n",
    "    return to_sde(GP(k), ArrayStorage(Float64))\n",
    "end"
   ],
   "metadata": {},
   "execution_count": 4
  },
  {
   "cell_type": "markdown",
   "source": [
    "Construct a rectilinear grid of points in space and time.\n",
    "Exact inference only works for such grids.\n",
    "Times must be increasing, points in space can be anywhere."
   ],
   "metadata": {}
  },
  {
   "outputs": [],
   "cell_type": "code",
   "source": [
    "N = 50;\n",
    "T = 1_000;\n",
    "points_in_space = collect(range(-3.0, 3.0; length=N));\n",
    "points_in_time = RegularSpacing(0.0, 0.01, T);\n",
    "x = RectilinearGrid(points_in_space, points_in_time);\n",
    "y = rand(build_gp(params)(x, 1e-4));"
   ],
   "metadata": {},
   "execution_count": 5
  },
  {
   "cell_type": "markdown",
   "source": [
    "Specify an objective function for Optim to minimise in terms of x and y.\n",
    "We choose the usual negative log marginal likelihood (NLML)."
   ],
   "metadata": {}
  },
  {
   "outputs": [
    {
     "output_type": "execute_result",
     "data": {
      "text/plain": "objective (generic function with 1 method)"
     },
     "metadata": {},
     "execution_count": 6
    }
   ],
   "cell_type": "code",
   "source": [
    "function objective(params)\n",
    "    f = build_gp(params)\n",
    "    return -logpdf(f(x, params.var_noise), y)\n",
    "end"
   ],
   "metadata": {},
   "execution_count": 6
  },
  {
   "cell_type": "markdown",
   "source": [
    "Optimise using Optim. Takes a little while to compile because Zygote."
   ],
   "metadata": {}
  },
  {
   "outputs": [
    {
     "name": "stdout",
     "output_type": "stream",
     "text": [
      "Iter     Function value   Gradient norm \n",
      "     0    -1.269103e+04     1.958044e+04\n",
      " * time: 9.393692016601562e-5\n",
      "     1    -3.660335e+04     2.372930e+04\n",
      " * time: 6.185869932174683\n",
      "     2    -6.040538e+04     2.378800e+04\n",
      " * time: 11.515004873275757\n",
      "     3    -6.110041e+04     2.379605e+04\n",
      " * time: 18.171354055404663\n",
      "     4    -6.308566e+04     2.377875e+04\n",
      " * time: 23.646811962127686\n",
      "     5    -8.594268e+04     2.327451e+04\n",
      " * time: 28.970414876937866\n",
      "     6    -1.075644e+05     2.209347e+04\n",
      " * time: 35.12078785896301\n",
      "     7    -1.276988e+05     1.930850e+04\n",
      " * time: 40.23667001724243\n",
      "     8    -1.435205e+05     1.252901e+04\n",
      " * time: 45.67296504974365\n",
      "     9    -1.486239e+05     5.320639e+03\n",
      " * time: 51.729368925094604\n",
      "    10    -1.490844e+05     4.607494e+03\n",
      " * time: 57.3311550617218\n",
      "    11    -1.495813e+05     3.362683e+03\n",
      " * time: 62.34265089035034\n",
      "    12    -1.498416e+05     5.268581e+03\n",
      " * time: 68.16419291496277\n",
      "    13    -1.499946e+05     7.867433e+02\n",
      " * time: 73.46008205413818\n",
      "    14    -1.500072e+05     3.157227e+02\n",
      " * time: 78.39672803878784\n",
      "    15    -1.500089e+05     6.263230e+01\n",
      " * time: 84.57097792625427\n",
      "    16    -1.500092e+05     1.662625e+01\n",
      " * time: 89.6988730430603\n",
      "    17    -1.500092e+05     1.696057e+00\n",
      " * time: 94.42040801048279\n",
      "    18    -1.500092e+05     6.091907e-02\n",
      " * time: 100.00953888893127\n",
      "    19    -1.500092e+05     1.672258e-03\n",
      " * time: 104.6204559803009\n",
      "    20    -1.500092e+05     3.969770e-05\n",
      " * time: 109.37812304496765\n",
      "    21    -1.500092e+05     3.149427e-06\n",
      " * time: 114.37528491020203\n",
      "    22    -1.500092e+05     7.359055e-08\n",
      " * time: 119.31612586975098\n",
      "    23    -1.500092e+05     5.791776e-08\n",
      " * time: 128.76303791999817\n",
      "    24    -1.500092e+05     6.679126e-08\n",
      " * time: 137.46577787399292\n",
      "    25    -1.500092e+05     7.010742e-08\n",
      " * time: 144.34875988960266\n",
      "    26    -1.500092e+05     6.956848e-08\n",
      " * time: 153.84623384475708\n",
      "    27    -1.500092e+05     6.956848e-08\n",
      " * time: 164.1839280128479\n",
      "    28    -1.500092e+05     7.028331e-08\n",
      " * time: 174.07969403266907\n",
      "    29    -1.500092e+05     7.028331e-08\n",
      " * time: 183.31528401374817\n",
      "    30    -1.500092e+05     7.028331e-08\n",
      " * time: 193.68592405319214\n"
     ]
    }
   ],
   "cell_type": "code",
   "source": [
    "training_results = Optim.optimize(\n",
    "    objective ∘ unpack,\n",
    "    θ -> only(Zygote.gradient(objective ∘ unpack, θ)),\n",
    "    flat_initial_params + randn(4), # Add some noise to make learning non-trivial\n",
    "    BFGS(\n",
    "        alphaguess = Optim.LineSearches.InitialStatic(scaled=true),\n",
    "        linesearch = Optim.LineSearches.BackTracking(),\n",
    "    ),\n",
    "    Optim.Options(show_trace = true);\n",
    "    inplace=false,\n",
    ");"
   ],
   "metadata": {},
   "execution_count": 7
  },
  {
   "cell_type": "markdown",
   "source": [
    "Extracting the final values of the parameters.\n",
    "Should be close to truth."
   ],
   "metadata": {}
  },
  {
   "outputs": [
    {
     "output_type": "execute_result",
     "data": {
      "text/plain": "(var_kernel = 0.5269485845960719, λ_space = 2.5201829315334705, λ_time = 2.5822932473777636, var_noise = 0.00010072355943937465)"
     },
     "metadata": {},
     "execution_count": 8
    }
   ],
   "cell_type": "code",
   "source": [
    "final_params = unpack(training_results.minimizer)"
   ],
   "metadata": {},
   "execution_count": 8
  },
  {
   "cell_type": "markdown",
   "source": [
    "Construct the posterior as per usual."
   ],
   "metadata": {}
  },
  {
   "outputs": [],
   "cell_type": "code",
   "source": [
    "f_post = posterior(build_gp(final_params)(x, final_params.var_noise), y);"
   ],
   "metadata": {},
   "execution_count": 9
  },
  {
   "cell_type": "markdown",
   "source": [
    "Specify some locations at which to make predictions."
   ],
   "metadata": {}
  },
  {
   "outputs": [],
   "cell_type": "code",
   "source": [
    "T_pr = 1200;\n",
    "points_in_time_pr = RegularSpacing(0.0, 0.01, T_pr);\n",
    "x_pr = RectilinearGrid(points_in_space, points_in_time_pr);"
   ],
   "metadata": {},
   "execution_count": 10
  },
  {
   "cell_type": "markdown",
   "source": [
    "Compute the exact posterior marginals at `x_pr`.\n",
    "This isn't optimised at present, so might take a little while."
   ],
   "metadata": {}
  },
  {
   "outputs": [],
   "cell_type": "code",
   "source": [
    "f_post_marginals = marginals(f_post(x_pr));\n",
    "m_post_marginals = mean.(f_post_marginals);\n",
    "σ_post_marginals = std.(f_post_marginals);"
   ],
   "metadata": {},
   "execution_count": 11
  },
  {
   "cell_type": "markdown",
   "source": [
    "Visualise the posterior marginals. We don't do this during in CI because it causes\n",
    "problems."
   ],
   "metadata": {}
  },
  {
   "outputs": [
    {
     "output_type": "execute_result",
     "data": {
      "text/plain": "\"/home/runner/work/TemporalGPs.jl/TemporalGPs.jl/docs/src/examples/exact_space_time_learning/posterior.png\""
     },
     "metadata": {},
     "execution_count": 12
    }
   ],
   "cell_type": "code",
   "source": [
    "if get(ENV, \"TESTING\", \"FALSE\") == \"FALSE\"\n",
    "    using Plots\n",
    "    savefig(\n",
    "        plot(\n",
    "            heatmap(reshape(m_post_marginals, N, T_pr)),\n",
    "            heatmap(reshape(σ_post_marginals, N, T_pr));\n",
    "            layout=(1, 2),\n",
    "        ),\n",
    "        \"posterior.png\",\n",
    "    );\n",
    "end"
   ],
   "metadata": {},
   "execution_count": 12
  },
  {
   "cell_type": "markdown",
   "source": [
    "<hr />\n",
    "<h6>Package and system information</h6>\n",
    "<details>\n",
    "<summary>Package information (click to expand)</summary>\n",
    "<pre>\n",
    "Status &#96;~/work/TemporalGPs.jl/TemporalGPs.jl/examples/exact_space_time_learning/Project.toml&#96;\n",
    "  &#91;99985d1d&#93; AbstractGPs v0.5.16\n",
    "  &#91;ec8451be&#93; KernelFunctions v0.10.55\n",
    "  &#91;98b081ad&#93; Literate v2.14.0\n",
    "  &#91;429524aa&#93; Optim v1.7.5\n",
    "  &#91;2412ca09&#93; ParameterHandling v0.4.6\n",
    "  &#91;91a5bcdd&#93; Plots v1.38.10\n",
    "  &#91;e155a3c4&#93; TemporalGPs v0.6.3 &#96;/home/runner/work/TemporalGPs.jl/TemporalGPs.jl#43bd0d9&#96;\n",
    "  &#91;e88e6eb3&#93; Zygote v0.6.60\n",
    "</pre>\n",
    "To reproduce this notebook's package environment, you can\n",
    "<a href=\"./Manifest.toml\">\n",
    "download the full Manifest.toml</a>.\n",
    "</details>\n",
    "<details>\n",
    "<summary>System information (click to expand)</summary>\n",
    "<pre>\n",
    "Julia Version 1.8.5\n",
    "Commit 17cfb8e65ea &#40;2023-01-08 06:45 UTC&#41;\n",
    "Platform Info:\n",
    "  OS: Linux &#40;x86_64-linux-gnu&#41;\n",
    "  CPU: 2 × Intel&#40;R&#41; Xeon&#40;R&#41; Platinum 8370C CPU @ 2.80GHz\n",
    "  WORD_SIZE: 64\n",
    "  LIBM: libopenlibm\n",
    "  LLVM: libLLVM-13.0.1 &#40;ORCJIT, icelake-server&#41;\n",
    "  Threads: 1 on 2 virtual cores\n",
    "Environment:\n",
    "  JULIA_DEBUG &#61; Documenter\n",
    "  JULIA_LOAD_PATH &#61; :/home/runner/.julia/packages/JuliaGPsDocs/e8FS0/src\n",
    "</pre>\n",
    "</details>"
   ],
   "metadata": {}
  },
  {
   "cell_type": "markdown",
   "source": [
    "---\n",
    "\n",
    "*This notebook was generated using [Literate.jl](https://github.com/fredrikekre/Literate.jl).*"
   ],
   "metadata": {}
  }
 ],
 "nbformat_minor": 3,
 "metadata": {
  "language_info": {
   "file_extension": ".jl",
   "mimetype": "application/julia",
   "name": "julia",
   "version": "1.8.5"
  },
  "kernelspec": {
   "name": "julia-1.8",
   "display_name": "Julia 1.8.5",
   "language": "julia"
  }
 },
 "nbformat": 4
}
