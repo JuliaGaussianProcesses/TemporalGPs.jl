{
 "cells": [
  {
   "cell_type": "markdown",
   "source": [
    "Working with spatio-temporal GPs in TemporalGPs.jl mostly looks like working with any\n",
    "other GP. The main differences are to do with what you're allowed to specify as a kernel,\n",
    "and what kinds of inputs work."
   ],
   "metadata": {}
  },
  {
   "outputs": [],
   "cell_type": "code",
   "source": [
    "using AbstractGPs\n",
    "using TemporalGPs"
   ],
   "metadata": {},
   "execution_count": 1
  },
  {
   "cell_type": "markdown",
   "source": [
    "Load up the separable kernel from TemporalGPs. You need to use this to tell TemporalGPs\n",
    "that you're using a separable kernel (it's not enough just to use a kernel which\n",
    "happens to be separable).\n",
    "Similarly, you need to use a RectilinearGrid to specify the grid of inputs -- it's not\n",
    "enough to ensure that the inputs happen to live on a grid."
   ],
   "metadata": {}
  },
  {
   "outputs": [],
   "cell_type": "code",
   "source": [
    "using TemporalGPs: Separable, RectilinearGrid"
   ],
   "metadata": {},
   "execution_count": 2
  },
  {
   "cell_type": "markdown",
   "source": [
    "Specify a separable kernel.\n",
    "The first argument is always the kernel over space, the second the kernel over time.\n",
    "You can also use weighted sums of separble kernels."
   ],
   "metadata": {}
  },
  {
   "outputs": [],
   "cell_type": "code",
   "source": [
    "k = Separable(SEKernel(), Matern52Kernel());"
   ],
   "metadata": {},
   "execution_count": 3
  },
  {
   "cell_type": "markdown",
   "source": [
    "Build a GP, and convert it to an SDE as per usual.\n",
    "Use `ArrayStorage`, not `SArrayStorage`, for these kinds of GPs."
   ],
   "metadata": {}
  },
  {
   "outputs": [],
   "cell_type": "code",
   "source": [
    "f = to_sde(GP(k), ArrayStorage(Float64));"
   ],
   "metadata": {},
   "execution_count": 4
  },
  {
   "cell_type": "markdown",
   "source": [
    "Construct a rectilinear grid of points in space and time.\n",
    "Exact inference only works for such grids.\n",
    "Times must be increasing, points in space can be anywhere, and can be multi-dimensional.\n",
    "For multi-dimensional spatial-locations, you would probably want to use a ColVecs."
   ],
   "metadata": {}
  },
  {
   "outputs": [],
   "cell_type": "code",
   "source": [
    "N = 50;\n",
    "T = 1_000;\n",
    "points_in_space = collect(range(-3.0, 3.0; length=N));\n",
    "points_in_time = RegularSpacing(0.0, 0.01, T);\n",
    "x = RectilinearGrid(points_in_space, points_in_time);"
   ],
   "metadata": {},
   "execution_count": 5
  },
  {
   "cell_type": "markdown",
   "source": [
    "Generate some noisy synthetic data from the GP."
   ],
   "metadata": {}
  },
  {
   "outputs": [],
   "cell_type": "code",
   "source": [
    "y = rand(f(x, 1e-1));"
   ],
   "metadata": {},
   "execution_count": 6
  },
  {
   "cell_type": "markdown",
   "source": [
    "Construct the posterior as per usual."
   ],
   "metadata": {}
  },
  {
   "outputs": [],
   "cell_type": "code",
   "source": [
    "f_post = posterior(f(x, 1e-1), y);"
   ],
   "metadata": {},
   "execution_count": 7
  },
  {
   "cell_type": "markdown",
   "source": [
    "Specify some locations at which to make predictions.\n",
    "This must be another RectilinearGrid with the same spatial locations as x."
   ],
   "metadata": {}
  },
  {
   "outputs": [],
   "cell_type": "code",
   "source": [
    "T_pr = 1200;\n",
    "points_in_time_pr = RegularSpacing(0.0, 0.01, T_pr);\n",
    "x_pr = RectilinearGrid(points_in_space, points_in_time_pr);"
   ],
   "metadata": {},
   "execution_count": 8
  },
  {
   "cell_type": "markdown",
   "source": [
    "Compute the exact posterior marginals at `x_pr`.\n",
    "This isn't optimised at present, so might take a little while."
   ],
   "metadata": {}
  },
  {
   "outputs": [],
   "cell_type": "code",
   "source": [
    "f_post_marginals = marginals(f_post(x_pr));\n",
    "m_post_marginals = mean.(f_post_marginals);\n",
    "σ_post_marginals = std.(f_post_marginals);"
   ],
   "metadata": {},
   "execution_count": 9
  },
  {
   "cell_type": "markdown",
   "source": [
    "Visualise the posterior marginals. We don't do this during in CI because it causes\n",
    "problems."
   ],
   "metadata": {}
  },
  {
   "outputs": [
    {
     "output_type": "execute_result",
     "data": {
      "text/plain": "\"/home/runner/work/TemporalGPs.jl/TemporalGPs.jl/docs/src/examples/exact_space_time_inference/posterior.png\""
     },
     "metadata": {},
     "execution_count": 10
    }
   ],
   "cell_type": "code",
   "source": [
    "if get(ENV, \"TESTING\", \"FALSE\") == \"FALSE\"\n",
    "    using Plots\n",
    "    savefig(\n",
    "        plot(\n",
    "            heatmap(reshape(m_post_marginals, N, T_pr)),\n",
    "            heatmap(reshape(σ_post_marginals, N, T_pr));\n",
    "            layout=(1, 2),\n",
    "        ),\n",
    "        \"posterior.png\",\n",
    "    );\n",
    "end"
   ],
   "metadata": {},
   "execution_count": 10
  },
  {
   "cell_type": "markdown",
   "source": [
    "<hr />\n",
    "<h6>Package and system information</h6>\n",
    "<details>\n",
    "<summary>Package information (click to expand)</summary>\n",
    "<pre>\n",
    "Status &#96;~/work/TemporalGPs.jl/TemporalGPs.jl/examples/exact_space_time_inference/Project.toml&#96;\n",
    "  &#91;99985d1d&#93; AbstractGPs v0.5.16\n",
    "  &#91;98b081ad&#93; Literate v2.14.0\n",
    "  &#91;91a5bcdd&#93; Plots v1.38.10\n",
    "  &#91;e155a3c4&#93; TemporalGPs v0.6.3 &#96;/home/runner/work/TemporalGPs.jl/TemporalGPs.jl#61a94af&#96;\n",
    "</pre>\n",
    "To reproduce this notebook's package environment, you can\n",
    "<a href=\"./Manifest.toml\">\n",
    "download the full Manifest.toml</a>.\n",
    "</details>\n",
    "<details>\n",
    "<summary>System information (click to expand)</summary>\n",
    "<pre>\n",
    "Julia Version 1.8.5\n",
    "Commit 17cfb8e65ea &#40;2023-01-08 06:45 UTC&#41;\n",
    "Platform Info:\n",
    "  OS: Linux &#40;x86_64-linux-gnu&#41;\n",
    "  CPU: 2 × Intel&#40;R&#41; Xeon&#40;R&#41; Platinum 8370C CPU @ 2.80GHz\n",
    "  WORD_SIZE: 64\n",
    "  LIBM: libopenlibm\n",
    "  LLVM: libLLVM-13.0.1 &#40;ORCJIT, icelake-server&#41;\n",
    "  Threads: 1 on 2 virtual cores\n",
    "Environment:\n",
    "  JULIA_DEBUG &#61; Documenter\n",
    "  JULIA_LOAD_PATH &#61; :/home/runner/.julia/packages/JuliaGPsDocs/e8FS0/src\n",
    "</pre>\n",
    "</details>"
   ],
   "metadata": {}
  },
  {
   "cell_type": "markdown",
   "source": [
    "---\n",
    "\n",
    "*This notebook was generated using [Literate.jl](https://github.com/fredrikekre/Literate.jl).*"
   ],
   "metadata": {}
  }
 ],
 "nbformat_minor": 3,
 "metadata": {
  "language_info": {
   "file_extension": ".jl",
   "mimetype": "application/julia",
   "name": "julia",
   "version": "1.8.5"
  },
  "kernelspec": {
   "name": "julia-1.8",
   "display_name": "Julia 1.8.5",
   "language": "julia"
  }
 },
 "nbformat": 4
}
