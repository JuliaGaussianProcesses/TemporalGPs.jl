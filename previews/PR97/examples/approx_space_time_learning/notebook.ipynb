{
 "cells": [
  {
   "cell_type": "markdown",
   "source": [
    "This is an extended version of approx_space_time_inference.jl. It combines it with\n",
    "Optim + ParameterHandling + Zygote to learn the kernel parameters.\n",
    "If you understand how to use Optim + ParameterHandling + Zygote for an AbstractGP,\n",
    "e.g. that shown on the README for this package, and how approx_space_time_inference.jl\n",
    "works, then you should understand this file."
   ],
   "metadata": {}
  },
  {
   "outputs": [],
   "cell_type": "code",
   "source": [
    "using AbstractGPs\n",
    "using KernelFunctions\n",
    "using TemporalGPs\n",
    "\n",
    "using TemporalGPs: Separable, approx_posterior_marginals, RegularInTime"
   ],
   "metadata": {},
   "execution_count": 1
  },
  {
   "cell_type": "markdown",
   "source": [
    "Load standard packages from the Julia ecosystem"
   ],
   "metadata": {}
  },
  {
   "outputs": [],
   "cell_type": "code",
   "source": [
    "using Optim # Standard optimisation algorithms.\n",
    "using ParameterHandling # Helper functionality for dealing with model parameters.\n",
    "using Zygote # Algorithmic Differentiation\n",
    "\n",
    "using ParameterHandling: flatten"
   ],
   "metadata": {},
   "execution_count": 2
  },
  {
   "cell_type": "markdown",
   "source": [
    "Declare model parameters using `ParameterHandling.jl` types."
   ],
   "metadata": {}
  },
  {
   "outputs": [],
   "cell_type": "code",
   "source": [
    "flat_initial_params, unflatten = flatten((\n",
    "    var_kernel = positive(0.6),\n",
    "    λ_space = positive(0.5),\n",
    "    λ_time = positive(0.1),\n",
    "    var_noise = positive(0.1),\n",
    "));"
   ],
   "metadata": {},
   "execution_count": 3
  },
  {
   "cell_type": "markdown",
   "source": [
    "Construct a function to unpack flattened parameters and pull out the raw values."
   ],
   "metadata": {}
  },
  {
   "outputs": [
    {
     "output_type": "execute_result",
     "data": {
      "text/plain": "build_gp (generic function with 1 method)"
     },
     "metadata": {},
     "execution_count": 4
    }
   ],
   "cell_type": "code",
   "source": [
    "unpack = ParameterHandling.value ∘ unflatten;\n",
    "params = unpack(flat_initial_params);\n",
    "\n",
    "function build_gp(params)\n",
    "    k_space = SEKernel() ∘ ScaleTransform(params.λ_space)\n",
    "    k_time = Matern52Kernel() ∘ ScaleTransform(params.λ_time)\n",
    "    k = params.var_kernel * Separable(k_space, k_time)\n",
    "    return to_sde(GP(k), ArrayStorage(Float64))\n",
    "end"
   ],
   "metadata": {},
   "execution_count": 4
  },
  {
   "cell_type": "markdown",
   "source": [
    "Construct inputs. Spatial locations change at each point in time.\n",
    "Also works with RectilinearGrids of inputs.\n",
    "Times must be increasing, points in space can be anywhere."
   ],
   "metadata": {}
  },
  {
   "outputs": [],
   "cell_type": "code",
   "source": [
    "N = 50;\n",
    "T = 1000;\n",
    "points_in_space = [randn(N) for _ in 1:T];\n",
    "points_in_time = RegularSpacing(0.0, 0.1, T);\n",
    "x = RegularInTime(points_in_time, points_in_space);"
   ],
   "metadata": {},
   "execution_count": 5
  },
  {
   "cell_type": "markdown",
   "source": [
    "Since it's not straightforward to generate samples from this GP at `x`, use a known\n",
    "function, under a bit of iid noise."
   ],
   "metadata": {}
  },
  {
   "outputs": [],
   "cell_type": "code",
   "source": [
    "xs = collect(x);\n",
    "y = sin.(first.(xs)) .+ cos.(last.(xs)) + sqrt.(params.var_noise) .* randn(length(xs));"
   ],
   "metadata": {},
   "execution_count": 6
  },
  {
   "cell_type": "markdown",
   "source": [
    "Spatial pseudo-point inputs."
   ],
   "metadata": {}
  },
  {
   "outputs": [],
   "cell_type": "code",
   "source": [
    "z_r = collect(range(-3.0, 3.0; length=5));"
   ],
   "metadata": {},
   "execution_count": 7
  },
  {
   "cell_type": "markdown",
   "source": [
    "Specify an objective function for Optim to minimise in terms of x and y.\n",
    "We choose the usual negative log marginal likelihood (NLML)."
   ],
   "metadata": {}
  },
  {
   "outputs": [
    {
     "output_type": "execute_result",
     "data": {
      "text/plain": "objective (generic function with 1 method)"
     },
     "metadata": {},
     "execution_count": 8
    }
   ],
   "cell_type": "code",
   "source": [
    "function objective(params)\n",
    "    f = build_gp(params)\n",
    "    return -elbo(f(x, params.var_noise), y, z_r)\n",
    "end"
   ],
   "metadata": {},
   "execution_count": 8
  },
  {
   "cell_type": "markdown",
   "source": [
    "Optimise using Optim. Takes a little while to compile because Zygote."
   ],
   "metadata": {}
  },
  {
   "outputs": [
    {
     "name": "stdout",
     "output_type": "stream",
     "text": [
      "Iter     Function value   Gradient norm \n",
      "     0     3.129985e+04     1.803950e+05\n",
      " * time: 0.00011610984802246094\n",
      "     1     2.571844e+04     7.265360e+05\n",
      " * time: 148.42887115478516\n",
      "     2     2.149375e+04     7.253002e+05\n",
      " * time: 290.8581690788269\n",
      "     3     2.149078e+04     7.238407e+05\n",
      " * time: 456.92350602149963\n",
      "     4     2.149078e+04     7.238407e+05\n",
      " * time: 640.1881840229034\n",
      "     5     1.992381e+04     5.916619e+05\n",
      " * time: 829.6829609870911\n",
      "     6     1.781678e+04     5.142248e+05\n",
      " * time: 978.1079339981079\n",
      "     7     1.724434e+04     4.088141e+05\n",
      " * time: 1121.1105000972748\n",
      "     8     1.656890e+04     1.950866e+05\n",
      " * time: 1270.1023840904236\n",
      "     9     1.656656e+04     1.756164e+05\n",
      " * time: 1439.841635942459\n",
      "    10     1.649683e+04     8.567031e+04\n",
      " * time: 1631.4611310958862\n",
      "    11     1.626427e+04     5.815503e+03\n",
      " * time: 1811.7437641620636\n",
      "    12     1.600220e+04     2.506083e+03\n",
      " * time: 1954.865961074829\n",
      "    13     1.462397e+04     4.108812e+03\n",
      " * time: 2088.4755301475525\n",
      "    14     1.411726e+04     3.668017e+03\n",
      " * time: 2230.373424053192\n",
      "    15     1.410100e+04     2.242471e+03\n",
      " * time: 2395.223291158676\n",
      "    16     1.409946e+04     1.797871e+02\n",
      " * time: 2565.410805940628\n",
      "    17     1.409890e+04     1.289281e+02\n",
      " * time: 2719.0251791477203\n",
      "    18     1.409853e+04     1.426880e+02\n",
      " * time: 2859.459589958191\n",
      "    19     1.409819e+04     6.884663e+01\n",
      " * time: 2998.270776987076\n",
      "    20     1.409793e+04     2.430569e+01\n",
      " * time: 3154.571629047394\n",
      "    21     1.409786e+04     2.690424e+01\n",
      " * time: 3321.5146651268005\n",
      "    22     1.409786e+04     6.874104e+00\n",
      " * time: 3503.480600118637\n",
      "    23     1.409786e+04     6.514271e-01\n",
      " * time: 3649.47803401947\n",
      "    24     1.409786e+04     4.063989e-02\n",
      " * time: 3790.0688819885254\n",
      "    25     1.409786e+04     2.776879e-02\n",
      " * time: 3934.6140520572662\n",
      "    26     1.409786e+04     8.028183e-05\n",
      " * time: 4090.297273159027\n",
      "    27     1.409786e+04     8.016760e-05\n",
      " * time: 4265.829733133316\n",
      "    28     1.409786e+04     8.015615e-05\n",
      " * time: 4421.143051147461\n",
      "    29     1.409786e+04     8.015615e-05\n",
      " * time: 4421.883188009262\n"
     ]
    }
   ],
   "cell_type": "code",
   "source": [
    "training_results = Optim.optimize(\n",
    "    objective ∘ unpack,\n",
    "    θ -> only(Zygote.gradient(objective ∘ unpack, θ)),\n",
    "    flat_initial_params,\n",
    "    BFGS(\n",
    "        alphaguess = Optim.LineSearches.InitialStatic(scaled=true),\n",
    "        linesearch = Optim.LineSearches.BackTracking(),\n",
    "    ),\n",
    "    Optim.Options(show_trace = true);\n",
    "    inplace=false,\n",
    ");"
   ],
   "metadata": {},
   "execution_count": 9
  },
  {
   "cell_type": "markdown",
   "source": [
    "Extracting the final values of the parameters.\n",
    "Should be close to truth."
   ],
   "metadata": {}
  },
  {
   "outputs": [],
   "cell_type": "code",
   "source": [
    "final_params = unpack(training_results.minimizer);"
   ],
   "metadata": {},
   "execution_count": 10
  },
  {
   "cell_type": "markdown",
   "source": [
    "final_params = unpack(flat_initial_params);"
   ],
   "metadata": {}
  },
  {
   "cell_type": "markdown",
   "source": [
    "Locations in space at which to make predictions. Assumed to be the same at each point in\n",
    "time, but this assumption could easily be relaxed."
   ],
   "metadata": {}
  },
  {
   "outputs": [],
   "cell_type": "code",
   "source": [
    "N_pr = 150;\n",
    "x_r_pr = range(-5.0, 5.0; length=N_pr);"
   ],
   "metadata": {},
   "execution_count": 11
  },
  {
   "cell_type": "markdown",
   "source": [
    "Compute the approximate posterior marginals."
   ],
   "metadata": {}
  },
  {
   "outputs": [],
   "cell_type": "code",
   "source": [
    "fx_final = build_gp(final_params)(x, final_params.var_noise)\n",
    "f_post_marginals = approx_posterior_marginals(dtc, fx_final, y, z_r, x_r_pr);\n",
    "m_post_marginals = mean.(f_post_marginals);\n",
    "σ_post_marginals = std.(f_post_marginals);"
   ],
   "metadata": {},
   "execution_count": 12
  },
  {
   "cell_type": "markdown",
   "source": [
    "Visualise the posterior marginals. We don't do this during in CI because it causes\n",
    "problems."
   ],
   "metadata": {}
  },
  {
   "outputs": [
    {
     "output_type": "execute_result",
     "data": {
      "text/plain": "\"/home/runner/work/TemporalGPs.jl/TemporalGPs.jl/docs/src/examples/approx_space_time_learning/posterior.png\""
     },
     "metadata": {},
     "execution_count": 13
    }
   ],
   "cell_type": "code",
   "source": [
    "if get(ENV, \"TESTING\", \"FALSE\") == \"FALSE\"\n",
    "    using Plots\n",
    "    savefig(\n",
    "        plot(\n",
    "            heatmap(reshape(m_post_marginals, N_pr, T)),\n",
    "            heatmap(reshape(σ_post_marginals, N_pr, T));\n",
    "            layout=(1, 2),\n",
    "        ),\n",
    "        \"posterior.png\",\n",
    "    );\n",
    "end"
   ],
   "metadata": {},
   "execution_count": 13
  },
  {
   "cell_type": "markdown",
   "source": [
    "<hr />\n",
    "<h6>Package and system information</h6>\n",
    "<details>\n",
    "<summary>Package information (click to expand)</summary>\n",
    "<pre>\n",
    "Status &#96;~/work/TemporalGPs.jl/TemporalGPs.jl/examples/approx_space_time_learning/Project.toml&#96;\n",
    "  &#91;99985d1d&#93; AbstractGPs v0.5.16\n",
    "  &#91;ec8451be&#93; KernelFunctions v0.10.53\n",
    "  &#91;98b081ad&#93; Literate v2.14.0\n",
    "  &#91;429524aa&#93; Optim v1.7.5\n",
    "  &#91;2412ca09&#93; ParameterHandling v0.4.6\n",
    "  &#91;91a5bcdd&#93; Plots v1.38.9\n",
    "  &#91;e155a3c4&#93; TemporalGPs v0.6.3 &#96;/home/runner/work/TemporalGPs.jl/TemporalGPs.jl#564e73f&#96;\n",
    "  &#91;e88e6eb3&#93; Zygote v0.6.60\n",
    "</pre>\n",
    "To reproduce this notebook's package environment, you can\n",
    "<a href=\"./Manifest.toml\">\n",
    "download the full Manifest.toml</a>.\n",
    "</details>\n",
    "<details>\n",
    "<summary>System information (click to expand)</summary>\n",
    "<pre>\n",
    "Julia Version 1.8.5\n",
    "Commit 17cfb8e65ea &#40;2023-01-08 06:45 UTC&#41;\n",
    "Platform Info:\n",
    "  OS: Linux &#40;x86_64-linux-gnu&#41;\n",
    "  CPU: 2 × Intel&#40;R&#41; Xeon&#40;R&#41; CPU E5-2673 v4 @ 2.30GHz\n",
    "  WORD_SIZE: 64\n",
    "  LIBM: libopenlibm\n",
    "  LLVM: libLLVM-13.0.1 &#40;ORCJIT, broadwell&#41;\n",
    "  Threads: 1 on 2 virtual cores\n",
    "Environment:\n",
    "  JULIA_DEBUG &#61; Documenter\n",
    "  JULIA_LOAD_PATH &#61; :/home/runner/.julia/packages/JuliaGPsDocs/e8FS0/src\n",
    "</pre>\n",
    "</details>"
   ],
   "metadata": {}
  },
  {
   "cell_type": "markdown",
   "source": [
    "---\n",
    "\n",
    "*This notebook was generated using [Literate.jl](https://github.com/fredrikekre/Literate.jl).*"
   ],
   "metadata": {}
  }
 ],
 "nbformat_minor": 3,
 "metadata": {
  "language_info": {
   "file_extension": ".jl",
   "mimetype": "application/julia",
   "name": "julia",
   "version": "1.8.5"
  },
  "kernelspec": {
   "name": "julia-1.8",
   "display_name": "Julia 1.8.5",
   "language": "julia"
  }
 },
 "nbformat": 4
}
