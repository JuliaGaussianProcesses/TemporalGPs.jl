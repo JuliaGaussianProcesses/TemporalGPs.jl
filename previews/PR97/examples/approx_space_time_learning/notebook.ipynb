{
 "cells": [
  {
   "cell_type": "markdown",
   "source": [
    "This is an extended version of approx_space_time_inference.jl. It combines it with\n",
    "Optim + ParameterHandling + Zygote to learn the kernel parameters.\n",
    "If you understand how to use Optim + ParameterHandling + Zygote for an AbstractGP,\n",
    "e.g. that shown on the README for this package, and how approx_space_time_inference.jl\n",
    "works, then you should understand this file."
   ],
   "metadata": {}
  },
  {
   "outputs": [],
   "cell_type": "code",
   "source": [
    "using AbstractGPs\n",
    "using KernelFunctions\n",
    "using TemporalGPs\n",
    "\n",
    "using TemporalGPs: Separable, approx_posterior_marginals, RegularInTime"
   ],
   "metadata": {},
   "execution_count": 1
  },
  {
   "cell_type": "markdown",
   "source": [
    "Load standard packages from the Julia ecosystem"
   ],
   "metadata": {}
  },
  {
   "outputs": [],
   "cell_type": "code",
   "source": [
    "using Optim # Standard optimisation algorithms.\n",
    "using ParameterHandling # Helper functionality for dealing with model parameters.\n",
    "using Zygote # Algorithmic Differentiation\n",
    "\n",
    "using ParameterHandling: flatten"
   ],
   "metadata": {},
   "execution_count": 2
  },
  {
   "cell_type": "markdown",
   "source": [
    "Declare model parameters using `ParameterHandling.jl` types."
   ],
   "metadata": {}
  },
  {
   "outputs": [],
   "cell_type": "code",
   "source": [
    "flat_initial_params, unflatten = flatten((\n",
    "    var_kernel = positive(0.6),\n",
    "    λ_space = positive(0.5),\n",
    "    λ_time = positive(0.1),\n",
    "    var_noise = positive(0.1),\n",
    "));"
   ],
   "metadata": {},
   "execution_count": 3
  },
  {
   "cell_type": "markdown",
   "source": [
    "Construct a function to unpack flattened parameters and pull out the raw values."
   ],
   "metadata": {}
  },
  {
   "outputs": [
    {
     "output_type": "execute_result",
     "data": {
      "text/plain": "build_gp (generic function with 1 method)"
     },
     "metadata": {},
     "execution_count": 4
    }
   ],
   "cell_type": "code",
   "source": [
    "unpack = ParameterHandling.value ∘ unflatten;\n",
    "params = unpack(flat_initial_params);\n",
    "\n",
    "function build_gp(params)\n",
    "    k_space = SEKernel() ∘ ScaleTransform(params.λ_space)\n",
    "    k_time = Matern52Kernel() ∘ ScaleTransform(params.λ_time)\n",
    "    k = params.var_kernel * Separable(k_space, k_time)\n",
    "    return to_sde(GP(k), ArrayStorage(Float64))\n",
    "end"
   ],
   "metadata": {},
   "execution_count": 4
  },
  {
   "cell_type": "markdown",
   "source": [
    "Construct inputs. Spatial locations change at each point in time.\n",
    "Also works with RectilinearGrids of inputs.\n",
    "Times must be increasing, points in space can be anywhere."
   ],
   "metadata": {}
  },
  {
   "outputs": [],
   "cell_type": "code",
   "source": [
    "N = 50;\n",
    "T = 1000;\n",
    "points_in_space = [randn(N) for _ in 1:T];\n",
    "points_in_time = RegularSpacing(0.0, 0.1, T);\n",
    "x = RegularInTime(points_in_time, points_in_space);"
   ],
   "metadata": {},
   "execution_count": 5
  },
  {
   "cell_type": "markdown",
   "source": [
    "Since it's not straightforward to generate samples from this GP at `x`, use a known\n",
    "function, under a bit of iid noise."
   ],
   "metadata": {}
  },
  {
   "outputs": [],
   "cell_type": "code",
   "source": [
    "xs = collect(x);\n",
    "y = sin.(first.(xs)) .+ cos.(last.(xs)) + sqrt.(params.var_noise) .* randn(length(xs));"
   ],
   "metadata": {},
   "execution_count": 6
  },
  {
   "cell_type": "markdown",
   "source": [
    "Spatial pseudo-point inputs."
   ],
   "metadata": {}
  },
  {
   "outputs": [],
   "cell_type": "code",
   "source": [
    "z_r = collect(range(-3.0, 3.0; length=5));"
   ],
   "metadata": {},
   "execution_count": 7
  },
  {
   "cell_type": "markdown",
   "source": [
    "Specify an objective function for Optim to minimise in terms of x and y.\n",
    "We choose the usual negative log marginal likelihood (NLML)."
   ],
   "metadata": {}
  },
  {
   "outputs": [
    {
     "output_type": "execute_result",
     "data": {
      "text/plain": "objective (generic function with 1 method)"
     },
     "metadata": {},
     "execution_count": 8
    }
   ],
   "cell_type": "code",
   "source": [
    "function objective(params)\n",
    "    f = build_gp(params)\n",
    "    return -elbo(f(x, params.var_noise), y, z_r)\n",
    "end"
   ],
   "metadata": {},
   "execution_count": 8
  },
  {
   "cell_type": "markdown",
   "source": [
    "Optimise using Optim. Takes a little while to compile because Zygote."
   ],
   "metadata": {}
  },
  {
   "outputs": [
    {
     "name": "stdout",
     "output_type": "stream",
     "text": [
      "Iter     Function value   Gradient norm \n",
      "     0     3.123285e+04     1.753601e+05\n",
      " * time: 8.106231689453125e-5\n",
      "     1     2.550180e+04     7.282147e+05\n",
      " * time: 73.6618959903717\n",
      "     2     2.138569e+04     7.252855e+05\n",
      " * time: 159.86979508399963\n",
      "     3     2.137828e+04     7.239784e+05\n",
      " * time: 259.88176703453064\n",
      "     4     2.137828e+04     7.239784e+05\n",
      " * time: 373.48688292503357\n",
      "     5     1.962356e+04     6.391686e+05\n",
      " * time: 460.91057205200195\n",
      "     6     1.751534e+04     4.893167e+05\n",
      " * time: 535.2209930419922\n",
      "     7     1.662510e+04     2.784442e+05\n",
      " * time: 613.8951740264893\n",
      "     8     1.656015e+04     2.190122e+05\n",
      " * time: 704.2139730453491\n",
      "     9     1.653056e+04     1.709609e+05\n",
      " * time: 804.980495929718\n",
      "    10     1.650598e+04     1.130275e+04\n",
      " * time: 906.397901058197\n",
      "    11     1.613777e+04     2.605091e+03\n",
      " * time: 984.9052610397339\n",
      "    12     1.556763e+04     1.421668e+04\n",
      " * time: 1058.5595090389252\n",
      "    13     1.469481e+04     1.706230e+04\n",
      " * time: 1133.7742879390717\n",
      "    14     1.406142e+04     7.367936e+03\n",
      " * time: 1222.5579180717468\n",
      "    15     1.401589e+04     3.751761e+03\n",
      " * time: 1321.9554738998413\n",
      "    16     1.401511e+04     4.040085e+02\n",
      " * time: 1407.2683279514313\n",
      "    17     1.401492e+04     8.716752e+01\n",
      " * time: 1480.8831129074097\n",
      "    18     1.401489e+04     4.875912e+01\n",
      " * time: 1571.7014560699463\n",
      "    19     1.401486e+04     1.422167e+01\n",
      " * time: 1676.5134148597717\n",
      "    20     1.401483e+04     1.065371e+01\n",
      " * time: 1792.7635219097137\n",
      "    21     1.401482e+04     9.063863e+00\n",
      " * time: 1909.7416188716888\n",
      "    22     1.401482e+04     2.090076e+00\n",
      " * time: 1987.7127239704132\n",
      "    23     1.401482e+04     1.979760e-01\n",
      " * time: 2061.679995059967\n",
      "    24     1.401482e+04     1.249880e-02\n",
      " * time: 2138.772041082382\n",
      "    25     1.401482e+04     5.463911e-03\n",
      " * time: 2231.7426569461823\n",
      "    26     1.401482e+04     7.211307e-04\n",
      " * time: 2335.962728023529\n",
      "    27     1.401482e+04     3.160963e-05\n",
      " * time: 2423.367166042328\n",
      "    28     1.401482e+04     3.231777e-07\n",
      " * time: 2498.015039920807\n",
      "    29     1.401482e+04     2.896142e-07\n",
      " * time: 2576.055139064789\n",
      "    30     1.401482e+04     2.897145e-07\n",
      " * time: 2669.78462600708\n",
      "    31     1.401482e+04     2.897145e-07\n",
      " * time: 2670.0791330337524\n"
     ]
    }
   ],
   "cell_type": "code",
   "source": [
    "training_results = Optim.optimize(\n",
    "    objective ∘ unpack,\n",
    "    θ -> only(Zygote.gradient(objective ∘ unpack, θ)),\n",
    "    flat_initial_params,\n",
    "    BFGS(\n",
    "        alphaguess = Optim.LineSearches.InitialStatic(scaled=true),\n",
    "        linesearch = Optim.LineSearches.BackTracking(),\n",
    "    ),\n",
    "    Optim.Options(show_trace = true);\n",
    "    inplace=false,\n",
    ");"
   ],
   "metadata": {},
   "execution_count": 9
  },
  {
   "cell_type": "markdown",
   "source": [
    "Extracting the final values of the parameters.\n",
    "Should be close to truth."
   ],
   "metadata": {}
  },
  {
   "outputs": [],
   "cell_type": "code",
   "source": [
    "final_params = unpack(training_results.minimizer);"
   ],
   "metadata": {},
   "execution_count": 10
  },
  {
   "cell_type": "markdown",
   "source": [
    "final_params = unpack(flat_initial_params);"
   ],
   "metadata": {}
  },
  {
   "cell_type": "markdown",
   "source": [
    "Locations in space at which to make predictions. Assumed to be the same at each point in\n",
    "time, but this assumption could easily be relaxed."
   ],
   "metadata": {}
  },
  {
   "outputs": [],
   "cell_type": "code",
   "source": [
    "N_pr = 150;\n",
    "x_r_pr = range(-5.0, 5.0; length=N_pr);"
   ],
   "metadata": {},
   "execution_count": 11
  },
  {
   "cell_type": "markdown",
   "source": [
    "Compute the approximate posterior marginals."
   ],
   "metadata": {}
  },
  {
   "outputs": [],
   "cell_type": "code",
   "source": [
    "fx_final = build_gp(final_params)(x, final_params.var_noise)\n",
    "f_post_marginals = approx_posterior_marginals(dtc, fx_final, y, z_r, x_r_pr);\n",
    "m_post_marginals = mean.(f_post_marginals);\n",
    "σ_post_marginals = std.(f_post_marginals);"
   ],
   "metadata": {},
   "execution_count": 12
  },
  {
   "cell_type": "markdown",
   "source": [
    "Visualise the posterior marginals. We don't do this during in CI because it causes\n",
    "problems."
   ],
   "metadata": {}
  },
  {
   "outputs": [
    {
     "output_type": "execute_result",
     "data": {
      "text/plain": "\"/home/runner/work/TemporalGPs.jl/TemporalGPs.jl/docs/src/examples/approx_space_time_learning/posterior.png\""
     },
     "metadata": {},
     "execution_count": 13
    }
   ],
   "cell_type": "code",
   "source": [
    "if get(ENV, \"TESTING\", \"FALSE\") == \"FALSE\"\n",
    "    using Plots\n",
    "    savefig(\n",
    "        plot(\n",
    "            heatmap(reshape(m_post_marginals, N_pr, T)),\n",
    "            heatmap(reshape(σ_post_marginals, N_pr, T));\n",
    "            layout=(1, 2),\n",
    "        ),\n",
    "        \"posterior.png\",\n",
    "    );\n",
    "end"
   ],
   "metadata": {},
   "execution_count": 13
  },
  {
   "cell_type": "markdown",
   "source": [
    "<hr />\n",
    "<h6>Package and system information</h6>\n",
    "<details>\n",
    "<summary>Package information (click to expand)</summary>\n",
    "<pre>\n",
    "Status &#96;~/work/TemporalGPs.jl/TemporalGPs.jl/examples/approx_space_time_learning/Project.toml&#96;\n",
    "  &#91;99985d1d&#93; AbstractGPs v0.5.16\n",
    "  &#91;ec8451be&#93; KernelFunctions v0.10.53\n",
    "  &#91;98b081ad&#93; Literate v2.14.0\n",
    "  &#91;429524aa&#93; Optim v1.7.5\n",
    "  &#91;2412ca09&#93; ParameterHandling v0.4.6\n",
    "  &#91;91a5bcdd&#93; Plots v1.38.9\n",
    "  &#91;e155a3c4&#93; TemporalGPs v0.6.1 &#96;/home/runner/work/TemporalGPs.jl/TemporalGPs.jl#aef4191&#96;\n",
    "  &#91;e88e6eb3&#93; Zygote v0.6.60\n",
    "</pre>\n",
    "To reproduce this notebook's package environment, you can\n",
    "<a href=\"./Manifest.toml\">\n",
    "download the full Manifest.toml</a>.\n",
    "</details>\n",
    "<details>\n",
    "<summary>System information (click to expand)</summary>\n",
    "<pre>\n",
    "Julia Version 1.8.5\n",
    "Commit 17cfb8e65ea &#40;2023-01-08 06:45 UTC&#41;\n",
    "Platform Info:\n",
    "  OS: Linux &#40;x86_64-linux-gnu&#41;\n",
    "  CPU: 2 × Intel&#40;R&#41; Xeon&#40;R&#41; Platinum 8370C CPU @ 2.80GHz\n",
    "  WORD_SIZE: 64\n",
    "  LIBM: libopenlibm\n",
    "  LLVM: libLLVM-13.0.1 &#40;ORCJIT, icelake-server&#41;\n",
    "  Threads: 1 on 2 virtual cores\n",
    "Environment:\n",
    "  JULIA_DEBUG &#61; Documenter\n",
    "  JULIA_LOAD_PATH &#61; :/home/runner/.julia/packages/JuliaGPsDocs/e8FS0/src\n",
    "</pre>\n",
    "</details>"
   ],
   "metadata": {}
  },
  {
   "cell_type": "markdown",
   "source": [
    "---\n",
    "\n",
    "*This notebook was generated using [Literate.jl](https://github.com/fredrikekre/Literate.jl).*"
   ],
   "metadata": {}
  }
 ],
 "nbformat_minor": 3,
 "metadata": {
  "language_info": {
   "file_extension": ".jl",
   "mimetype": "application/julia",
   "name": "julia",
   "version": "1.8.5"
  },
  "kernelspec": {
   "name": "julia-1.8",
   "display_name": "Julia 1.8.5",
   "language": "julia"
  }
 },
 "nbformat": 4
}
