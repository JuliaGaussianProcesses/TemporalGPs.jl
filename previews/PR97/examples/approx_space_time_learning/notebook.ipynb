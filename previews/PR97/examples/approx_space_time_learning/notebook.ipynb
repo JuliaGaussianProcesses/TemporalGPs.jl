{
 "cells": [
  {
   "cell_type": "markdown",
   "source": [
    "This is an extended version of approx_space_time_inference.jl. It combines it with\n",
    "Optim + ParameterHandling + Zygote to learn the kernel parameters.\n",
    "If you understand how to use Optim + ParameterHandling + Zygote for an AbstractGP,\n",
    "e.g. that shown on the README for this package, and how approx_space_time_inference.jl\n",
    "works, then you should understand this file."
   ],
   "metadata": {}
  },
  {
   "outputs": [],
   "cell_type": "code",
   "source": [
    "using AbstractGPs\n",
    "using KernelFunctions\n",
    "using TemporalGPs\n",
    "\n",
    "using TemporalGPs: Separable, approx_posterior_marginals, RegularInTime"
   ],
   "metadata": {},
   "execution_count": 1
  },
  {
   "cell_type": "markdown",
   "source": [
    "Load standard packages from the Julia ecosystem"
   ],
   "metadata": {}
  },
  {
   "outputs": [],
   "cell_type": "code",
   "source": [
    "using Optim # Standard optimisation algorithms.\n",
    "using ParameterHandling # Helper functionality for dealing with model parameters.\n",
    "using Zygote # Algorithmic Differentiation\n",
    "\n",
    "using ParameterHandling: flatten"
   ],
   "metadata": {},
   "execution_count": 2
  },
  {
   "cell_type": "markdown",
   "source": [
    "Declare model parameters using `ParameterHandling.jl` types."
   ],
   "metadata": {}
  },
  {
   "outputs": [],
   "cell_type": "code",
   "source": [
    "flat_initial_params, unflatten = flatten((\n",
    "    var_kernel = positive(0.6),\n",
    "    λ_space = positive(0.5),\n",
    "    λ_time = positive(0.1),\n",
    "    var_noise = positive(0.1),\n",
    "));"
   ],
   "metadata": {},
   "execution_count": 3
  },
  {
   "cell_type": "markdown",
   "source": [
    "Construct a function to unpack flattened parameters and pull out the raw values."
   ],
   "metadata": {}
  },
  {
   "outputs": [
    {
     "output_type": "execute_result",
     "data": {
      "text/plain": "build_gp (generic function with 1 method)"
     },
     "metadata": {},
     "execution_count": 4
    }
   ],
   "cell_type": "code",
   "source": [
    "unpack = ParameterHandling.value ∘ unflatten;\n",
    "params = unpack(flat_initial_params);\n",
    "\n",
    "function build_gp(params)\n",
    "    k_space = SEKernel() ∘ ScaleTransform(params.λ_space)\n",
    "    k_time = Matern52Kernel() ∘ ScaleTransform(params.λ_time)\n",
    "    k = params.var_kernel * Separable(k_space, k_time)\n",
    "    return to_sde(GP(k), ArrayStorage(Float64))\n",
    "end"
   ],
   "metadata": {},
   "execution_count": 4
  },
  {
   "cell_type": "markdown",
   "source": [
    "Construct inputs. Spatial locations change at each point in time.\n",
    "Also works with RectilinearGrids of inputs.\n",
    "Times must be increasing, points in space can be anywhere."
   ],
   "metadata": {}
  },
  {
   "outputs": [],
   "cell_type": "code",
   "source": [
    "N = 50;\n",
    "T = 1000;\n",
    "points_in_space = [randn(N) for _ in 1:T];\n",
    "points_in_time = RegularSpacing(0.0, 0.1, T);\n",
    "x = RegularInTime(points_in_time, points_in_space);"
   ],
   "metadata": {},
   "execution_count": 5
  },
  {
   "cell_type": "markdown",
   "source": [
    "Since it's not straightforward to generate samples from this GP at `x`, use a known\n",
    "function, under a bit of iid noise."
   ],
   "metadata": {}
  },
  {
   "outputs": [],
   "cell_type": "code",
   "source": [
    "xs = collect(x);\n",
    "y = sin.(first.(xs)) .+ cos.(last.(xs)) + sqrt.(params.var_noise) .* randn(length(xs));"
   ],
   "metadata": {},
   "execution_count": 6
  },
  {
   "cell_type": "markdown",
   "source": [
    "Spatial pseudo-point inputs."
   ],
   "metadata": {}
  },
  {
   "outputs": [],
   "cell_type": "code",
   "source": [
    "z_r = collect(range(-3.0, 3.0; length=5));"
   ],
   "metadata": {},
   "execution_count": 7
  },
  {
   "cell_type": "markdown",
   "source": [
    "Specify an objective function for Optim to minimise in terms of x and y.\n",
    "We choose the usual negative log marginal likelihood (NLML)."
   ],
   "metadata": {}
  },
  {
   "outputs": [
    {
     "output_type": "execute_result",
     "data": {
      "text/plain": "objective (generic function with 1 method)"
     },
     "metadata": {},
     "execution_count": 8
    }
   ],
   "cell_type": "code",
   "source": [
    "function objective(params)\n",
    "    f = build_gp(params)\n",
    "    return -elbo(f(x, params.var_noise), y, z_r)\n",
    "end"
   ],
   "metadata": {},
   "execution_count": 8
  },
  {
   "cell_type": "markdown",
   "source": [
    "Optimise using Optim. Takes a little while to compile because Zygote."
   ],
   "metadata": {}
  },
  {
   "outputs": [
    {
     "name": "stdout",
     "output_type": "stream",
     "text": [
      "Iter     Function value   Gradient norm \n",
      "     0     3.158310e+04     1.957007e+05\n",
      " * time: 7.200241088867188e-5\n",
      "     1     2.633904e+04     7.213313e+05\n",
      " * time: 70.17709302902222\n",
      "     2     2.175262e+04     7.263337e+05\n",
      " * time: 157.83005094528198\n",
      "     3     2.175133e+04     7.250125e+05\n",
      " * time: 259.41100883483887\n",
      "     4     2.175133e+04     7.250125e+05\n",
      " * time: 373.2402548789978\n",
      "     5     2.095959e+04     6.967810e+05\n",
      " * time: 457.63089299201965\n",
      "     6     1.885366e+04     5.326730e+05\n",
      " * time: 529.0996680259705\n",
      "     7     1.824753e+04     5.181115e+05\n",
      " * time: 600.0830819606781\n",
      "     8     1.824131e+04     4.984240e+05\n",
      " * time: 687.0209879875183\n",
      "     9     1.679894e+04     3.487920e+05\n",
      " * time: 786.2110438346863\n",
      "    10     1.671015e+04     3.880195e+04\n",
      " * time: 876.9002709388733\n",
      "    11     1.655493e+04     2.050754e+03\n",
      " * time: 946.794683933258\n",
      "    12     1.628491e+04     2.614013e+03\n",
      " * time: 1019.373123884201\n",
      "    13     1.524490e+04     4.063033e+03\n",
      " * time: 1106.900827884674\n",
      "    14     1.456460e+04     6.228723e+02\n",
      " * time: 1199.4110560417175\n",
      "    15     1.441291e+04     6.684776e+02\n",
      " * time: 1299.6872580051422\n",
      "    16     1.437974e+04     6.649535e+02\n",
      " * time: 1373.109850883484\n",
      "    17     1.435180e+04     1.328775e+02\n",
      " * time: 1443.400995016098\n",
      "    18     1.434652e+04     1.397435e+02\n",
      " * time: 1511.7480828762054\n",
      "    19     1.434529e+04     9.578849e+01\n",
      " * time: 1585.78990483284\n",
      "    20     1.434481e+04     7.072283e+01\n",
      " * time: 1670.4880058765411\n",
      "    21     1.434418e+04     1.080004e+01\n",
      " * time: 1750.3023748397827\n",
      "    22     1.434417e+04     5.621292e+00\n",
      " * time: 1819.6217529773712\n",
      "    23     1.434417e+04     2.001544e+00\n",
      " * time: 1896.0703320503235\n",
      "    24     1.434417e+04     1.929586e-01\n",
      " * time: 1988.5404489040375\n",
      "    25     1.434417e+04     1.899999e-02\n",
      " * time: 2094.1202528476715\n",
      "    26     1.434417e+04     1.900000e-02\n",
      " * time: 2210.5808148384094\n",
      "    27     1.434417e+04     1.900000e-02\n",
      " * time: 2211.110694885254\n"
     ]
    }
   ],
   "cell_type": "code",
   "source": [
    "training_results = Optim.optimize(\n",
    "    objective ∘ unpack,\n",
    "    θ -> only(Zygote.gradient(objective ∘ unpack, θ)),\n",
    "    flat_initial_params,\n",
    "    BFGS(\n",
    "        alphaguess = Optim.LineSearches.InitialStatic(scaled=true),\n",
    "        linesearch = Optim.LineSearches.BackTracking(),\n",
    "    ),\n",
    "    Optim.Options(show_trace = true);\n",
    "    inplace=false,\n",
    ");"
   ],
   "metadata": {},
   "execution_count": 9
  },
  {
   "cell_type": "markdown",
   "source": [
    "Extracting the final values of the parameters.\n",
    "Should be close to truth."
   ],
   "metadata": {}
  },
  {
   "outputs": [],
   "cell_type": "code",
   "source": [
    "final_params = unpack(training_results.minimizer);"
   ],
   "metadata": {},
   "execution_count": 10
  },
  {
   "cell_type": "markdown",
   "source": [
    "final_params = unpack(flat_initial_params);"
   ],
   "metadata": {}
  },
  {
   "cell_type": "markdown",
   "source": [
    "Locations in space at which to make predictions. Assumed to be the same at each point in\n",
    "time, but this assumption could easily be relaxed."
   ],
   "metadata": {}
  },
  {
   "outputs": [],
   "cell_type": "code",
   "source": [
    "N_pr = 150;\n",
    "x_r_pr = range(-5.0, 5.0; length=N_pr);"
   ],
   "metadata": {},
   "execution_count": 11
  },
  {
   "cell_type": "markdown",
   "source": [
    "Compute the approximate posterior marginals."
   ],
   "metadata": {}
  },
  {
   "outputs": [],
   "cell_type": "code",
   "source": [
    "fx_final = build_gp(final_params)(x, final_params.var_noise)\n",
    "f_post_marginals = approx_posterior_marginals(dtc, fx_final, y, z_r, x_r_pr);\n",
    "m_post_marginals = mean.(f_post_marginals);\n",
    "σ_post_marginals = std.(f_post_marginals);"
   ],
   "metadata": {},
   "execution_count": 12
  },
  {
   "cell_type": "markdown",
   "source": [
    "Visualise the posterior marginals. We don't do this during in CI because it causes\n",
    "problems."
   ],
   "metadata": {}
  },
  {
   "outputs": [
    {
     "output_type": "execute_result",
     "data": {
      "text/plain": "\"/home/runner/work/TemporalGPs.jl/TemporalGPs.jl/docs/src/examples/approx_space_time_learning/posterior.png\""
     },
     "metadata": {},
     "execution_count": 13
    }
   ],
   "cell_type": "code",
   "source": [
    "if get(ENV, \"TESTING\", \"FALSE\") == \"FALSE\"\n",
    "    using Plots\n",
    "    savefig(\n",
    "        plot(\n",
    "            heatmap(reshape(m_post_marginals, N_pr, T)),\n",
    "            heatmap(reshape(σ_post_marginals, N_pr, T));\n",
    "            layout=(1, 2),\n",
    "        ),\n",
    "        \"posterior.png\",\n",
    "    );\n",
    "end"
   ],
   "metadata": {},
   "execution_count": 13
  },
  {
   "cell_type": "markdown",
   "source": [
    "<hr />\n",
    "<h6>Package and system information</h6>\n",
    "<details>\n",
    "<summary>Package information (click to expand)</summary>\n",
    "<pre>\n",
    "Status &#96;~/work/TemporalGPs.jl/TemporalGPs.jl/examples/approx_space_time_learning/Project.toml&#96;\n",
    "  &#91;99985d1d&#93; AbstractGPs v0.5.16\n",
    "  &#91;ec8451be&#93; KernelFunctions v0.10.55\n",
    "  &#91;98b081ad&#93; Literate v2.14.0\n",
    "  &#91;429524aa&#93; Optim v1.7.5\n",
    "  &#91;2412ca09&#93; ParameterHandling v0.4.6\n",
    "  &#91;91a5bcdd&#93; Plots v1.38.10\n",
    "  &#91;e155a3c4&#93; TemporalGPs v0.6.3 &#96;/home/runner/work/TemporalGPs.jl/TemporalGPs.jl#61a94af&#96;\n",
    "  &#91;e88e6eb3&#93; Zygote v0.6.60\n",
    "</pre>\n",
    "To reproduce this notebook's package environment, you can\n",
    "<a href=\"./Manifest.toml\">\n",
    "download the full Manifest.toml</a>.\n",
    "</details>\n",
    "<details>\n",
    "<summary>System information (click to expand)</summary>\n",
    "<pre>\n",
    "Julia Version 1.8.5\n",
    "Commit 17cfb8e65ea &#40;2023-01-08 06:45 UTC&#41;\n",
    "Platform Info:\n",
    "  OS: Linux &#40;x86_64-linux-gnu&#41;\n",
    "  CPU: 2 × Intel&#40;R&#41; Xeon&#40;R&#41; Platinum 8370C CPU @ 2.80GHz\n",
    "  WORD_SIZE: 64\n",
    "  LIBM: libopenlibm\n",
    "  LLVM: libLLVM-13.0.1 &#40;ORCJIT, icelake-server&#41;\n",
    "  Threads: 1 on 2 virtual cores\n",
    "Environment:\n",
    "  JULIA_DEBUG &#61; Documenter\n",
    "  JULIA_LOAD_PATH &#61; :/home/runner/.julia/packages/JuliaGPsDocs/e8FS0/src\n",
    "</pre>\n",
    "</details>"
   ],
   "metadata": {}
  },
  {
   "cell_type": "markdown",
   "source": [
    "---\n",
    "\n",
    "*This notebook was generated using [Literate.jl](https://github.com/fredrikekre/Literate.jl).*"
   ],
   "metadata": {}
  }
 ],
 "nbformat_minor": 3,
 "metadata": {
  "language_info": {
   "file_extension": ".jl",
   "mimetype": "application/julia",
   "name": "julia",
   "version": "1.8.5"
  },
  "kernelspec": {
   "name": "julia-1.8",
   "display_name": "Julia 1.8.5",
   "language": "julia"
  }
 },
 "nbformat": 4
}
