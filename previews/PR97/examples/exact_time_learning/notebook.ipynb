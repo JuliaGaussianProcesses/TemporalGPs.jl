{
 "cells": [
  {
   "cell_type": "markdown",
   "source": [
    "This is an extended version of exact_time_inference.jl. It combines it with\n",
    "Optim + ParameterHandling + Zygote to learn the kernel parameters.\n",
    "Each of these other packages know nothing about TemporalGPs, they're just general-purpose\n",
    "packages which play nicely with TemporalGPs (and AbstractGPs)."
   ],
   "metadata": {}
  },
  {
   "outputs": [],
   "cell_type": "code",
   "source": [
    "using AbstractGPs\n",
    "using TemporalGPs"
   ],
   "metadata": {},
   "execution_count": 1
  },
  {
   "cell_type": "markdown",
   "source": [
    "Load up the separable kernel from TemporalGPs."
   ],
   "metadata": {}
  },
  {
   "outputs": [],
   "cell_type": "code",
   "source": [
    "using TemporalGPs: RegularSpacing"
   ],
   "metadata": {},
   "execution_count": 2
  },
  {
   "cell_type": "markdown",
   "source": [
    "Load standard packages from the Julia ecosystem"
   ],
   "metadata": {}
  },
  {
   "outputs": [],
   "cell_type": "code",
   "source": [
    "using Optim # Standard optimisation algorithms.\n",
    "using ParameterHandling # Helper functionality for dealing with model parameters.\n",
    "using Zygote # Algorithmic Differentiation"
   ],
   "metadata": {},
   "execution_count": 3
  },
  {
   "cell_type": "markdown",
   "source": [
    "Declare model parameters using `ParameterHandling.jl` types.\n",
    "var_kernel is the variance of the kernel, λ the inverse length scale, and var_noise the\n",
    "variance of the observation noise. Note that they're all constrained to be positive."
   ],
   "metadata": {}
  },
  {
   "outputs": [],
   "cell_type": "code",
   "source": [
    "flat_initial_params, unpack = ParameterHandling.value_flatten((\n",
    "    mean = 3.0,\n",
    "    var_kernel = positive(0.6),\n",
    "    λ = positive(0.1),\n",
    "    var_noise = positive(2.0),\n",
    "));"
   ],
   "metadata": {},
   "execution_count": 4
  },
  {
   "cell_type": "markdown",
   "source": [
    "Pull out the raw values."
   ],
   "metadata": {}
  },
  {
   "outputs": [
    {
     "output_type": "execute_result",
     "data": {
      "text/plain": "build_gp (generic function with 1 method)"
     },
     "metadata": {},
     "execution_count": 5
    }
   ],
   "cell_type": "code",
   "source": [
    "params = unpack(flat_initial_params);\n",
    "\n",
    "function build_gp(params)\n",
    "    k = params.var_kernel * Matern52Kernel() ∘ ScaleTransform(params.λ)\n",
    "    return to_sde(GP(params.mean, k), SArrayStorage(Float64))\n",
    "end"
   ],
   "metadata": {},
   "execution_count": 5
  },
  {
   "cell_type": "markdown",
   "source": [
    "Specify a collection of inputs. Must be increasing."
   ],
   "metadata": {}
  },
  {
   "outputs": [],
   "cell_type": "code",
   "source": [
    "T = 1_000_000;\n",
    "x = RegularSpacing(0.0, 1e-4, T);"
   ],
   "metadata": {},
   "execution_count": 6
  },
  {
   "cell_type": "markdown",
   "source": [
    "Generate some noisy synthetic data from the GP."
   ],
   "metadata": {}
  },
  {
   "outputs": [],
   "cell_type": "code",
   "source": [
    "f = build_gp(params)\n",
    "y = rand(f(x, params.var_noise));"
   ],
   "metadata": {},
   "execution_count": 7
  },
  {
   "cell_type": "markdown",
   "source": [
    "Specify an objective function for Optim to minimise in terms of x and y.\n",
    "We choose the usual negative log marginal likelihood (NLML)."
   ],
   "metadata": {}
  },
  {
   "outputs": [
    {
     "output_type": "execute_result",
     "data": {
      "text/plain": "objective (generic function with 1 method)"
     },
     "metadata": {},
     "execution_count": 8
    }
   ],
   "cell_type": "code",
   "source": [
    "function objective(params)\n",
    "    f = build_gp(params)\n",
    "    return -logpdf(f(x, params.var_noise), y)\n",
    "end"
   ],
   "metadata": {},
   "execution_count": 8
  },
  {
   "cell_type": "markdown",
   "source": [
    "Optimise using Optim. Zygote takes a little while to compile."
   ],
   "metadata": {}
  },
  {
   "outputs": [
    {
     "name": "stdout",
     "output_type": "stream",
     "text": [
      "Iter     Function value   Gradient norm \n",
      "     0     2.863793e+06     1.874004e+06\n",
      " * time: 0.0001380443572998047\n",
      "     1     1.862721e+06     3.739343e+05\n",
      " * time: 126.31552600860596\n",
      "     2     1.861706e+06     3.755963e+05\n",
      " * time: 252.47278904914856\n",
      "     3     1.846254e+06     3.384893e+05\n",
      " * time: 380.4401750564575\n",
      "     4     1.835583e+06     3.113907e+05\n",
      " * time: 509.76091504096985\n",
      "     5     1.831457e+06     3.005251e+05\n",
      " * time: 636.9222149848938\n",
      "     6     1.829609e+06     2.955744e+05\n",
      " * time: 759.0101170539856\n",
      "     7     1.828288e+06     2.920070e+05\n",
      " * time: 873.8118560314178\n",
      "     8     1.826426e+06     2.869298e+05\n",
      " * time: 984.65198802948\n",
      "     9     1.822313e+06     2.755081e+05\n",
      " * time: 1095.8705229759216\n",
      "    10     1.815872e+06     2.569778e+05\n",
      " * time: 1205.8107120990753\n",
      "    11     1.808565e+06     2.348200e+05\n",
      " * time: 1315.834254026413\n",
      "    12     1.799871e+06     2.064294e+05\n",
      " * time: 1429.2335090637207\n",
      "    13     1.792989e+06     1.818329e+05\n",
      " * time: 1541.54181599617\n",
      "    14     1.782968e+06     1.407276e+05\n",
      " * time: 1652.5476500988007\n",
      "    15     1.776977e+06     1.109364e+05\n",
      " * time: 1764.0436789989471\n",
      "    16     1.766355e+06     1.162435e+04\n",
      " * time: 1875.0017070770264\n",
      "    17     1.766270e+06     7.143587e+03\n",
      " * time: 1984.6176371574402\n",
      "    18     1.766236e+06     3.678226e+03\n",
      " * time: 2096.6474640369415\n",
      "    19     1.766221e+06     1.484330e+03\n",
      " * time: 2207.0625190734863\n",
      "    20     1.766218e+06     6.669337e+02\n",
      " * time: 2317.085009098053\n",
      "    21     1.766217e+06     7.007089e+02\n",
      " * time: 2429.175315141678\n",
      "    22     1.766216e+06     2.450195e+02\n",
      " * time: 2538.9737961292267\n",
      "    23     1.766216e+06     4.994675e+01\n",
      " * time: 2648.3256590366364\n",
      "    24     1.766215e+06     1.549737e+02\n",
      " * time: 2759.3218870162964\n",
      "    25     1.766214e+06     1.792627e+02\n",
      " * time: 2868.7455151081085\n",
      "    26     1.766214e+06     4.769554e+01\n",
      " * time: 2978.592779159546\n",
      "    27     1.766214e+06     1.635922e+00\n",
      " * time: 3090.0928859710693\n",
      "    28     1.766214e+06     4.809270e-01\n",
      " * time: 3198.9162561893463\n",
      "    29     1.766214e+06     7.004854e-02\n",
      " * time: 3305.185975074768\n",
      "    30     1.766214e+06     7.405512e-04\n",
      " * time: 3412.6887681484222\n",
      "    31     1.766214e+06     6.605772e-04\n",
      " * time: 3521.480600118637\n",
      "    32     1.766214e+06     1.279176e-07\n",
      " * time: 3631.9031801223755\n",
      "    33     1.766214e+06     3.195210e-08\n",
      " * time: 3741.287245988846\n",
      "    34     1.766214e+06     1.375803e-10\n",
      " * time: 3850.28036403656\n"
     ]
    }
   ],
   "cell_type": "code",
   "source": [
    "training_results = Optim.optimize(\n",
    "    objective ∘ unpack,\n",
    "    θ -> only(Zygote.gradient(objective ∘ unpack, θ)),\n",
    "    flat_initial_params .+ randn.(), # Perturb the parameters to make learning non-trivial\n",
    "    BFGS(\n",
    "        alphaguess = Optim.LineSearches.InitialStatic(scaled=true),\n",
    "        linesearch = Optim.LineSearches.BackTracking(),\n",
    "    ),\n",
    "    Optim.Options(show_trace = true);\n",
    "    inplace=false,\n",
    ");"
   ],
   "metadata": {},
   "execution_count": 9
  },
  {
   "cell_type": "markdown",
   "source": [
    "Extracting the final values of the parameters. Should be moderately close to truth."
   ],
   "metadata": {}
  },
  {
   "outputs": [
    {
     "output_type": "execute_result",
     "data": {
      "text/plain": "(mean = 3.1239954837950847, var_kernel = 0.22948768026887953, λ = 0.1293063756483739, var_noise = 2.002348473379149)"
     },
     "metadata": {},
     "execution_count": 10
    }
   ],
   "cell_type": "code",
   "source": [
    "final_params = unpack(training_results.minimizer)"
   ],
   "metadata": {},
   "execution_count": 10
  },
  {
   "cell_type": "markdown",
   "source": [
    "Construct the posterior as per usual."
   ],
   "metadata": {}
  },
  {
   "outputs": [],
   "cell_type": "code",
   "source": [
    "f_final = build_gp(final_params)\n",
    "f_post = posterior(f_final(x, final_params.var_noise), y);"
   ],
   "metadata": {},
   "execution_count": 11
  },
  {
   "cell_type": "markdown",
   "source": [
    "Specify some locations at which to make predictions."
   ],
   "metadata": {}
  },
  {
   "outputs": [],
   "cell_type": "code",
   "source": [
    "T_pr = 1_200_000;\n",
    "x_pr = RegularSpacing(0.0, 1e-4, T_pr);"
   ],
   "metadata": {},
   "execution_count": 12
  },
  {
   "cell_type": "markdown",
   "source": [
    "Compute the exact posterior marginals at `x_pr`."
   ],
   "metadata": {}
  },
  {
   "outputs": [],
   "cell_type": "code",
   "source": [
    "f_post_marginals = marginals(f_post(x_pr));\n",
    "m_post_marginals = mean.(f_post_marginals);\n",
    "σ_post_marginals = std.(f_post_marginals);"
   ],
   "metadata": {},
   "execution_count": 13
  },
  {
   "cell_type": "markdown",
   "source": [
    "Generate a few posterior samples. Not fantastically-well optimised at present."
   ],
   "metadata": {}
  },
  {
   "outputs": [],
   "cell_type": "code",
   "source": [
    "f_post_samples = [rand(f_post(x_pr)) for _ in 1:5];"
   ],
   "metadata": {},
   "execution_count": 14
  },
  {
   "cell_type": "markdown",
   "source": [
    "Visualise the posterior. The if block is just to prevent it running in CI."
   ],
   "metadata": {}
  },
  {
   "outputs": [
    {
     "output_type": "execute_result",
     "data": {
      "text/plain": "\"/home/runner/work/TemporalGPs.jl/TemporalGPs.jl/docs/src/examples/exact_time_learning/posterior.png\""
     },
     "metadata": {},
     "execution_count": 15
    }
   ],
   "cell_type": "code",
   "source": [
    "if get(ENV, \"TESTING\", \"FALSE\") == \"FALSE\"\n",
    "    using Plots\n",
    "    plt = plot();\n",
    "    scatter!(plt, x, y; label=\"\", markersize=0.1, alpha=0.1);\n",
    "    plot!(plt, f_post(x_pr); ribbon_scale=3.0, label=\"\");\n",
    "    plot!(plt, x_pr, f_post_samples; color=:red, label=\"\");\n",
    "    savefig(plt, \"posterior.png\");\n",
    "end"
   ],
   "metadata": {},
   "execution_count": 15
  },
  {
   "cell_type": "markdown",
   "source": [
    "<hr />\n",
    "<h6>Package and system information</h6>\n",
    "<details>\n",
    "<summary>Package information (click to expand)</summary>\n",
    "<pre>\n",
    "Status &#96;~/work/TemporalGPs.jl/TemporalGPs.jl/examples/exact_time_learning/Project.toml&#96;\n",
    "  &#91;99985d1d&#93; AbstractGPs v0.5.16\n",
    "  &#91;98b081ad&#93; Literate v2.14.0\n",
    "  &#91;429524aa&#93; Optim v1.7.5\n",
    "  &#91;2412ca09&#93; ParameterHandling v0.4.6\n",
    "  &#91;91a5bcdd&#93; Plots v1.38.9\n",
    "  &#91;e155a3c4&#93; TemporalGPs v0.6.3 &#96;/home/runner/work/TemporalGPs.jl/TemporalGPs.jl#564e73f&#96;\n",
    "  &#91;e88e6eb3&#93; Zygote v0.6.60\n",
    "</pre>\n",
    "To reproduce this notebook's package environment, you can\n",
    "<a href=\"./Manifest.toml\">\n",
    "download the full Manifest.toml</a>.\n",
    "</details>\n",
    "<details>\n",
    "<summary>System information (click to expand)</summary>\n",
    "<pre>\n",
    "Julia Version 1.8.5\n",
    "Commit 17cfb8e65ea &#40;2023-01-08 06:45 UTC&#41;\n",
    "Platform Info:\n",
    "  OS: Linux &#40;x86_64-linux-gnu&#41;\n",
    "  CPU: 2 × Intel&#40;R&#41; Xeon&#40;R&#41; CPU E5-2673 v4 @ 2.30GHz\n",
    "  WORD_SIZE: 64\n",
    "  LIBM: libopenlibm\n",
    "  LLVM: libLLVM-13.0.1 &#40;ORCJIT, broadwell&#41;\n",
    "  Threads: 1 on 2 virtual cores\n",
    "Environment:\n",
    "  JULIA_DEBUG &#61; Documenter\n",
    "  JULIA_LOAD_PATH &#61; :/home/runner/.julia/packages/JuliaGPsDocs/e8FS0/src\n",
    "</pre>\n",
    "</details>"
   ],
   "metadata": {}
  },
  {
   "cell_type": "markdown",
   "source": [
    "---\n",
    "\n",
    "*This notebook was generated using [Literate.jl](https://github.com/fredrikekre/Literate.jl).*"
   ],
   "metadata": {}
  }
 ],
 "nbformat_minor": 3,
 "metadata": {
  "language_info": {
   "file_extension": ".jl",
   "mimetype": "application/julia",
   "name": "julia",
   "version": "1.8.5"
  },
  "kernelspec": {
   "name": "julia-1.8",
   "display_name": "Julia 1.8.5",
   "language": "julia"
  }
 },
 "nbformat": 4
}
